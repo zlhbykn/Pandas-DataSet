{
 "cells": [
  {
   "cell_type": "code",
   "execution_count": 2,
   "id": "35768130-8427-4e9a-8e6e-e7df4b10cd17",
   "metadata": {},
   "outputs": [],
   "source": [
    "import numpy as np\n",
    "import pandas as pd\n",
    "\n",
    "import matplotlib.pyplot as plt # matplotlib içerisindeki pyplot modülünü plt olarak import ettik\n",
    "import matplotlib as mpl # sadece matplotlibi import etmek etmek için kullanırız\n",
    "\n",
    "import seaborn as sns\n",
    "\n",
    "import warnings\n",
    "warnings.filterwarnings('ignore')"
   ]
  },
  {
   "cell_type": "markdown",
   "id": "874d7f21-34f2-4a2c-90f9-fe1731378a36",
   "metadata": {},
   "source": [
    "# Geyser DataSet\n",
    "***İçerik:*** Gayzerin patlama süreleri ve iki patlama arasındaki bekleme süreleri.\n",
    "\n",
    "***Boyut:*** 272 gözlem satırı, 2 değişken.\n",
    "\n",
    "***Değişkenler:***\n",
    "\n",
    "***duration:*** Gayzerin patlama süresi (dakika cinsinden).\n",
    "\n",
    "***waiting:*** Bir sonraki patlamaya kadar geçen süre (dakika cinsinden).\n",
    "\n",
    "***📊 Kullanım Alanları***\n",
    "\n",
    "***Regresyon*** (örneğin: bekleme süresine göre patlama süresi tahmini).\n",
    "\n",
    "***Clustering / Kümeleme*** (kısa patlamalar & uzun patlamalar şeklinde iki grup çıkar).\n",
    "\n",
    "***Dağılım grafikleri*** (scatter plot ile bekleme süresi ve patlama süresi ilişkisi).\n",
    "\n",
    "***Zaman serisi analizleri*** (patlamaların sırası ile trend incelenmesi)."
   ]
  },
  {
   "cell_type": "code",
   "execution_count": 3,
   "id": "86a19c6c-a528-4959-b711-a17aed2746b7",
   "metadata": {},
   "outputs": [
    {
     "data": {
      "text/plain": [
       "['anagrams',\n",
       " 'anscombe',\n",
       " 'attention',\n",
       " 'brain_networks',\n",
       " 'car_crashes',\n",
       " 'diamonds',\n",
       " 'dots',\n",
       " 'dowjones',\n",
       " 'exercise',\n",
       " 'flights',\n",
       " 'fmri',\n",
       " 'geyser',\n",
       " 'glue',\n",
       " 'healthexp',\n",
       " 'iris',\n",
       " 'mpg',\n",
       " 'penguins',\n",
       " 'planets',\n",
       " 'seaice',\n",
       " 'taxis',\n",
       " 'tips',\n",
       " 'titanic']"
      ]
     },
     "execution_count": 3,
     "metadata": {},
     "output_type": "execute_result"
    }
   ],
   "source": [
    "sns.get_dataset_names()"
   ]
  },
  {
   "cell_type": "code",
   "execution_count": 3,
   "id": "1f45546d-d8fb-437c-8eee-a29a2dc372c0",
   "metadata": {},
   "outputs": [
    {
     "data": {
      "text/html": [
       "<div>\n",
       "<style scoped>\n",
       "    .dataframe tbody tr th:only-of-type {\n",
       "        vertical-align: middle;\n",
       "    }\n",
       "\n",
       "    .dataframe tbody tr th {\n",
       "        vertical-align: top;\n",
       "    }\n",
       "\n",
       "    .dataframe thead th {\n",
       "        text-align: right;\n",
       "    }\n",
       "</style>\n",
       "<table border=\"1\" class=\"dataframe\">\n",
       "  <thead>\n",
       "    <tr style=\"text-align: right;\">\n",
       "      <th></th>\n",
       "      <th>duration</th>\n",
       "      <th>waiting</th>\n",
       "      <th>kind</th>\n",
       "    </tr>\n",
       "  </thead>\n",
       "  <tbody>\n",
       "    <tr>\n",
       "      <th>0</th>\n",
       "      <td>3.600</td>\n",
       "      <td>79</td>\n",
       "      <td>long</td>\n",
       "    </tr>\n",
       "    <tr>\n",
       "      <th>1</th>\n",
       "      <td>1.800</td>\n",
       "      <td>54</td>\n",
       "      <td>short</td>\n",
       "    </tr>\n",
       "    <tr>\n",
       "      <th>2</th>\n",
       "      <td>3.333</td>\n",
       "      <td>74</td>\n",
       "      <td>long</td>\n",
       "    </tr>\n",
       "    <tr>\n",
       "      <th>3</th>\n",
       "      <td>2.283</td>\n",
       "      <td>62</td>\n",
       "      <td>short</td>\n",
       "    </tr>\n",
       "    <tr>\n",
       "      <th>4</th>\n",
       "      <td>4.533</td>\n",
       "      <td>85</td>\n",
       "      <td>long</td>\n",
       "    </tr>\n",
       "    <tr>\n",
       "      <th>...</th>\n",
       "      <td>...</td>\n",
       "      <td>...</td>\n",
       "      <td>...</td>\n",
       "    </tr>\n",
       "    <tr>\n",
       "      <th>267</th>\n",
       "      <td>4.117</td>\n",
       "      <td>81</td>\n",
       "      <td>long</td>\n",
       "    </tr>\n",
       "    <tr>\n",
       "      <th>268</th>\n",
       "      <td>2.150</td>\n",
       "      <td>46</td>\n",
       "      <td>short</td>\n",
       "    </tr>\n",
       "    <tr>\n",
       "      <th>269</th>\n",
       "      <td>4.417</td>\n",
       "      <td>90</td>\n",
       "      <td>long</td>\n",
       "    </tr>\n",
       "    <tr>\n",
       "      <th>270</th>\n",
       "      <td>1.817</td>\n",
       "      <td>46</td>\n",
       "      <td>short</td>\n",
       "    </tr>\n",
       "    <tr>\n",
       "      <th>271</th>\n",
       "      <td>4.467</td>\n",
       "      <td>74</td>\n",
       "      <td>long</td>\n",
       "    </tr>\n",
       "  </tbody>\n",
       "</table>\n",
       "<p>272 rows × 3 columns</p>\n",
       "</div>"
      ],
      "text/plain": [
       "     duration  waiting   kind\n",
       "0       3.600       79   long\n",
       "1       1.800       54  short\n",
       "2       3.333       74   long\n",
       "3       2.283       62  short\n",
       "4       4.533       85   long\n",
       "..        ...      ...    ...\n",
       "267     4.117       81   long\n",
       "268     2.150       46  short\n",
       "269     4.417       90   long\n",
       "270     1.817       46  short\n",
       "271     4.467       74   long\n",
       "\n",
       "[272 rows x 3 columns]"
      ]
     },
     "execution_count": 3,
     "metadata": {},
     "output_type": "execute_result"
    }
   ],
   "source": [
    "geyser = sns.load_dataset('geyser')\n",
    "geyser"
   ]
  },
  {
   "cell_type": "code",
   "execution_count": 5,
   "id": "4862757a-2134-452b-8919-3a8beb56d99e",
   "metadata": {},
   "outputs": [
    {
     "data": {
      "text/html": [
       "<div>\n",
       "<style scoped>\n",
       "    .dataframe tbody tr th:only-of-type {\n",
       "        vertical-align: middle;\n",
       "    }\n",
       "\n",
       "    .dataframe tbody tr th {\n",
       "        vertical-align: top;\n",
       "    }\n",
       "\n",
       "    .dataframe thead th {\n",
       "        text-align: right;\n",
       "    }\n",
       "</style>\n",
       "<table border=\"1\" class=\"dataframe\">\n",
       "  <thead>\n",
       "    <tr style=\"text-align: right;\">\n",
       "      <th></th>\n",
       "      <th>duration</th>\n",
       "      <th>waiting</th>\n",
       "      <th>kind</th>\n",
       "    </tr>\n",
       "  </thead>\n",
       "  <tbody>\n",
       "    <tr>\n",
       "      <th>0</th>\n",
       "      <td>3.600</td>\n",
       "      <td>79</td>\n",
       "      <td>long</td>\n",
       "    </tr>\n",
       "    <tr>\n",
       "      <th>1</th>\n",
       "      <td>1.800</td>\n",
       "      <td>54</td>\n",
       "      <td>short</td>\n",
       "    </tr>\n",
       "    <tr>\n",
       "      <th>2</th>\n",
       "      <td>3.333</td>\n",
       "      <td>74</td>\n",
       "      <td>long</td>\n",
       "    </tr>\n",
       "    <tr>\n",
       "      <th>3</th>\n",
       "      <td>2.283</td>\n",
       "      <td>62</td>\n",
       "      <td>short</td>\n",
       "    </tr>\n",
       "    <tr>\n",
       "      <th>4</th>\n",
       "      <td>4.533</td>\n",
       "      <td>85</td>\n",
       "      <td>long</td>\n",
       "    </tr>\n",
       "  </tbody>\n",
       "</table>\n",
       "</div>"
      ],
      "text/plain": [
       "   duration  waiting   kind\n",
       "0     3.600       79   long\n",
       "1     1.800       54  short\n",
       "2     3.333       74   long\n",
       "3     2.283       62  short\n",
       "4     4.533       85   long"
      ]
     },
     "execution_count": 5,
     "metadata": {},
     "output_type": "execute_result"
    }
   ],
   "source": [
    "geyser.head()"
   ]
  },
  {
   "cell_type": "code",
   "execution_count": 6,
   "id": "dfa94bd4-0333-48f3-8b49-6e30386f2b9d",
   "metadata": {},
   "outputs": [
    {
     "data": {
      "text/html": [
       "<div>\n",
       "<style scoped>\n",
       "    .dataframe tbody tr th:only-of-type {\n",
       "        vertical-align: middle;\n",
       "    }\n",
       "\n",
       "    .dataframe tbody tr th {\n",
       "        vertical-align: top;\n",
       "    }\n",
       "\n",
       "    .dataframe thead th {\n",
       "        text-align: right;\n",
       "    }\n",
       "</style>\n",
       "<table border=\"1\" class=\"dataframe\">\n",
       "  <thead>\n",
       "    <tr style=\"text-align: right;\">\n",
       "      <th></th>\n",
       "      <th>duration</th>\n",
       "      <th>waiting</th>\n",
       "      <th>kind</th>\n",
       "    </tr>\n",
       "  </thead>\n",
       "  <tbody>\n",
       "    <tr>\n",
       "      <th>267</th>\n",
       "      <td>4.117</td>\n",
       "      <td>81</td>\n",
       "      <td>long</td>\n",
       "    </tr>\n",
       "    <tr>\n",
       "      <th>268</th>\n",
       "      <td>2.150</td>\n",
       "      <td>46</td>\n",
       "      <td>short</td>\n",
       "    </tr>\n",
       "    <tr>\n",
       "      <th>269</th>\n",
       "      <td>4.417</td>\n",
       "      <td>90</td>\n",
       "      <td>long</td>\n",
       "    </tr>\n",
       "    <tr>\n",
       "      <th>270</th>\n",
       "      <td>1.817</td>\n",
       "      <td>46</td>\n",
       "      <td>short</td>\n",
       "    </tr>\n",
       "    <tr>\n",
       "      <th>271</th>\n",
       "      <td>4.467</td>\n",
       "      <td>74</td>\n",
       "      <td>long</td>\n",
       "    </tr>\n",
       "  </tbody>\n",
       "</table>\n",
       "</div>"
      ],
      "text/plain": [
       "     duration  waiting   kind\n",
       "267     4.117       81   long\n",
       "268     2.150       46  short\n",
       "269     4.417       90   long\n",
       "270     1.817       46  short\n",
       "271     4.467       74   long"
      ]
     },
     "execution_count": 6,
     "metadata": {},
     "output_type": "execute_result"
    }
   ],
   "source": [
    "geyser.tail()"
   ]
  },
  {
   "cell_type": "code",
   "execution_count": 7,
   "id": "8a06fd7f-dafe-4de0-b83f-62924ec52fe7",
   "metadata": {},
   "outputs": [
    {
     "data": {
      "text/html": [
       "<div>\n",
       "<style scoped>\n",
       "    .dataframe tbody tr th:only-of-type {\n",
       "        vertical-align: middle;\n",
       "    }\n",
       "\n",
       "    .dataframe tbody tr th {\n",
       "        vertical-align: top;\n",
       "    }\n",
       "\n",
       "    .dataframe thead th {\n",
       "        text-align: right;\n",
       "    }\n",
       "</style>\n",
       "<table border=\"1\" class=\"dataframe\">\n",
       "  <thead>\n",
       "    <tr style=\"text-align: right;\">\n",
       "      <th></th>\n",
       "      <th>duration</th>\n",
       "      <th>waiting</th>\n",
       "      <th>kind</th>\n",
       "    </tr>\n",
       "  </thead>\n",
       "  <tbody>\n",
       "    <tr>\n",
       "      <th>198</th>\n",
       "      <td>2.250</td>\n",
       "      <td>51</td>\n",
       "      <td>short</td>\n",
       "    </tr>\n",
       "    <tr>\n",
       "      <th>8</th>\n",
       "      <td>1.950</td>\n",
       "      <td>51</td>\n",
       "      <td>short</td>\n",
       "    </tr>\n",
       "    <tr>\n",
       "      <th>91</th>\n",
       "      <td>4.333</td>\n",
       "      <td>90</td>\n",
       "      <td>long</td>\n",
       "    </tr>\n",
       "  </tbody>\n",
       "</table>\n",
       "</div>"
      ],
      "text/plain": [
       "     duration  waiting   kind\n",
       "198     2.250       51  short\n",
       "8       1.950       51  short\n",
       "91      4.333       90   long"
      ]
     },
     "execution_count": 7,
     "metadata": {},
     "output_type": "execute_result"
    }
   ],
   "source": [
    "geyser.sample(3)"
   ]
  },
  {
   "cell_type": "code",
   "execution_count": 17,
   "id": "4b88ca68-97bf-498d-8b71-425c0e9a41dd",
   "metadata": {},
   "outputs": [
    {
     "data": {
      "text/plain": [
       "(272, 3)"
      ]
     },
     "execution_count": 17,
     "metadata": {},
     "output_type": "execute_result"
    }
   ],
   "source": [
    "geyser.shape # satır sütun sayısını verdi"
   ]
  },
  {
   "cell_type": "code",
   "execution_count": 18,
   "id": "2a046bc9-b614-41b3-b959-48800dc35df6",
   "metadata": {},
   "outputs": [
    {
     "data": {
      "text/plain": [
       "2"
      ]
     },
     "execution_count": 18,
     "metadata": {},
     "output_type": "execute_result"
    }
   ],
   "source": [
    "geyser.ndim # boyut bilgisi verdi"
   ]
  },
  {
   "cell_type": "code",
   "execution_count": 19,
   "id": "c3c0db07-8d91-4a37-82b2-31fdd4b65a8a",
   "metadata": {},
   "outputs": [
    {
     "data": {
      "text/plain": [
       "816"
      ]
     },
     "execution_count": 19,
     "metadata": {},
     "output_type": "execute_result"
    }
   ],
   "source": [
    "geyser.size # value sayısını verdi"
   ]
  },
  {
   "cell_type": "code",
   "execution_count": 8,
   "id": "572102e3-fc5e-4898-b173-f3cb2371c690",
   "metadata": {},
   "outputs": [
    {
     "name": "stdout",
     "output_type": "stream",
     "text": [
      "<class 'pandas.core.frame.DataFrame'>\n",
      "RangeIndex: 272 entries, 0 to 271\n",
      "Data columns (total 3 columns):\n",
      " #   Column    Non-Null Count  Dtype  \n",
      "---  ------    --------------  -----  \n",
      " 0   duration  272 non-null    float64\n",
      " 1   waiting   272 non-null    int64  \n",
      " 2   kind      272 non-null    object \n",
      "dtypes: float64(1), int64(1), object(1)\n",
      "memory usage: 6.5+ KB\n"
     ]
    }
   ],
   "source": [
    "geyser.info() # data setinin genel değerlendirmesi var"
   ]
  },
  {
   "cell_type": "code",
   "execution_count": 34,
   "id": "53f9d35f-78f3-4835-b30c-15d0a1fba689",
   "metadata": {},
   "outputs": [
    {
     "data": {
      "text/html": [
       "<div>\n",
       "<style scoped>\n",
       "    .dataframe tbody tr th:only-of-type {\n",
       "        vertical-align: middle;\n",
       "    }\n",
       "\n",
       "    .dataframe tbody tr th {\n",
       "        vertical-align: top;\n",
       "    }\n",
       "\n",
       "    .dataframe thead th {\n",
       "        text-align: right;\n",
       "    }\n",
       "</style>\n",
       "<table border=\"1\" class=\"dataframe\">\n",
       "  <thead>\n",
       "    <tr style=\"text-align: right;\">\n",
       "      <th></th>\n",
       "      <th>duration</th>\n",
       "      <th>waiting</th>\n",
       "    </tr>\n",
       "  </thead>\n",
       "  <tbody>\n",
       "    <tr>\n",
       "      <th>count</th>\n",
       "      <td>272.000000</td>\n",
       "      <td>272.000000</td>\n",
       "    </tr>\n",
       "    <tr>\n",
       "      <th>mean</th>\n",
       "      <td>3.487783</td>\n",
       "      <td>70.897059</td>\n",
       "    </tr>\n",
       "    <tr>\n",
       "      <th>std</th>\n",
       "      <td>1.141371</td>\n",
       "      <td>13.594974</td>\n",
       "    </tr>\n",
       "    <tr>\n",
       "      <th>min</th>\n",
       "      <td>1.600000</td>\n",
       "      <td>43.000000</td>\n",
       "    </tr>\n",
       "    <tr>\n",
       "      <th>25%</th>\n",
       "      <td>2.162750</td>\n",
       "      <td>58.000000</td>\n",
       "    </tr>\n",
       "    <tr>\n",
       "      <th>50%</th>\n",
       "      <td>4.000000</td>\n",
       "      <td>76.000000</td>\n",
       "    </tr>\n",
       "    <tr>\n",
       "      <th>75%</th>\n",
       "      <td>4.454250</td>\n",
       "      <td>82.000000</td>\n",
       "    </tr>\n",
       "    <tr>\n",
       "      <th>max</th>\n",
       "      <td>5.100000</td>\n",
       "      <td>96.000000</td>\n",
       "    </tr>\n",
       "  </tbody>\n",
       "</table>\n",
       "</div>"
      ],
      "text/plain": [
       "         duration     waiting\n",
       "count  272.000000  272.000000\n",
       "mean     3.487783   70.897059\n",
       "std      1.141371   13.594974\n",
       "min      1.600000   43.000000\n",
       "25%      2.162750   58.000000\n",
       "50%      4.000000   76.000000\n",
       "75%      4.454250   82.000000\n",
       "max      5.100000   96.000000"
      ]
     },
     "execution_count": 34,
     "metadata": {},
     "output_type": "execute_result"
    }
   ],
   "source": [
    "geyser.describe() # çeşitli istatistiki bilgileri bize çıktı olarak verdi"
   ]
  },
  {
   "cell_type": "markdown",
   "id": "1c26fd80-e83f-4b3d-b1e3-ece07e8eeec6",
   "metadata": {},
   "source": [
    "# Korelasyon Katsayısı\n",
    "\n",
    "Değer aralığı: -1 ile +1 arasındadır.\n",
    "\n",
    "+1 → Tam pozitif ilişki (biri artarken diğeri de artar).\n",
    "\n",
    "-1 → Tam negatif ilişki (biri artarken diğeri azalır).\n",
    "\n",
    "0 → Hiçbir ilişki yok."
   ]
  },
  {
   "cell_type": "code",
   "execution_count": 35,
   "id": "4b61f42b-ee21-4140-8234-88ff33e44469",
   "metadata": {},
   "outputs": [
    {
     "data": {
      "text/html": [
       "<div>\n",
       "<style scoped>\n",
       "    .dataframe tbody tr th:only-of-type {\n",
       "        vertical-align: middle;\n",
       "    }\n",
       "\n",
       "    .dataframe tbody tr th {\n",
       "        vertical-align: top;\n",
       "    }\n",
       "\n",
       "    .dataframe thead th {\n",
       "        text-align: right;\n",
       "    }\n",
       "</style>\n",
       "<table border=\"1\" class=\"dataframe\">\n",
       "  <thead>\n",
       "    <tr style=\"text-align: right;\">\n",
       "      <th></th>\n",
       "      <th>duration</th>\n",
       "      <th>waiting</th>\n",
       "    </tr>\n",
       "  </thead>\n",
       "  <tbody>\n",
       "    <tr>\n",
       "      <th>duration</th>\n",
       "      <td>1.000000</td>\n",
       "      <td>0.900811</td>\n",
       "    </tr>\n",
       "    <tr>\n",
       "      <th>waiting</th>\n",
       "      <td>0.900811</td>\n",
       "      <td>1.000000</td>\n",
       "    </tr>\n",
       "  </tbody>\n",
       "</table>\n",
       "</div>"
      ],
      "text/plain": [
       "          duration   waiting\n",
       "duration  1.000000  0.900811\n",
       "waiting   0.900811  1.000000"
      ]
     },
     "execution_count": 35,
     "metadata": {},
     "output_type": "execute_result"
    }
   ],
   "source": [
    "geyser.corr(numeric_only = True) # 2 değişken ararsı korelasyonu verdi"
   ]
  },
  {
   "cell_type": "code",
   "execution_count": 11,
   "id": "8c05403b-8640-4ab0-86bd-6be39ed90cdf",
   "metadata": {},
   "outputs": [
    {
     "data": {
      "text/plain": [
       "duration    float64\n",
       "waiting       int64\n",
       "kind         object\n",
       "dtype: object"
      ]
     },
     "execution_count": 11,
     "metadata": {},
     "output_type": "execute_result"
    }
   ],
   "source": [
    "geyser.dtypes # sütunların type bilgisi verdi"
   ]
  },
  {
   "cell_type": "code",
   "execution_count": 12,
   "id": "4e480f9c-8516-4b18-b051-f5bc1fef861c",
   "metadata": {},
   "outputs": [
    {
     "data": {
      "text/plain": [
       "Index(['duration', 'waiting', 'kind'], dtype='object')"
      ]
     },
     "execution_count": 12,
     "metadata": {},
     "output_type": "execute_result"
    }
   ],
   "source": [
    "geyser.columns # sütun isimleri verdi"
   ]
  },
  {
   "cell_type": "code",
   "execution_count": 13,
   "id": "cb4b57de-46c5-456f-8023-0e9167302bc6",
   "metadata": {},
   "outputs": [
    {
     "data": {
      "text/plain": [
       "RangeIndex(start=0, stop=272, step=1)"
      ]
     },
     "execution_count": 13,
     "metadata": {},
     "output_type": "execute_result"
    }
   ],
   "source": [
    "geyser.index # index bilgisi verdi"
   ]
  },
  {
   "cell_type": "code",
   "execution_count": 14,
   "id": "2410cd67-db84-4e6b-a336-13c0ddb974c8",
   "metadata": {},
   "outputs": [
    {
     "data": {
      "text/plain": [
       "duration     3.487783\n",
       "waiting     70.897059\n",
       "dtype: float64"
      ]
     },
     "execution_count": 14,
     "metadata": {},
     "output_type": "execute_result"
    }
   ],
   "source": [
    "geyser.mean(numeric_only = True) # numeric değerler içeren sütunların ortalama bilgisini verdi"
   ]
  },
  {
   "cell_type": "code",
   "execution_count": 16,
   "id": "0d5b11a4-e2f2-42b6-be56-75de4df1d2c1",
   "metadata": {
    "scrolled": true
   },
   "outputs": [
    {
     "data": {
      "text/plain": [
       "duration     1.141371\n",
       "waiting     13.594974\n",
       "dtype: float64"
      ]
     },
     "execution_count": 16,
     "metadata": {},
     "output_type": "execute_result"
    }
   ],
   "source": [
    "geyser.std(numeric_only = True) # numeric değerler içeren sütunların standart sapmasını verdi"
   ]
  },
  {
   "cell_type": "code",
   "execution_count": 37,
   "id": "f8137f52-dc8e-4d19-920b-41980c5ea839",
   "metadata": {},
   "outputs": [
    {
     "data": {
      "text/plain": [
       "array(['long', 'short'], dtype=object)"
      ]
     },
     "execution_count": 37,
     "metadata": {},
     "output_type": "execute_result"
    }
   ],
   "source": [
    "geyser.kind.unique() # kind sütunu içinde unique değerlere baktı"
   ]
  },
  {
   "cell_type": "code",
   "execution_count": 25,
   "id": "205e8b39-ff64-420c-925d-196198b03bdb",
   "metadata": {},
   "outputs": [
    {
     "data": {
      "text/plain": [
       "kind\n",
       "long     172\n",
       "short    100\n",
       "Name: count, dtype: int64"
      ]
     },
     "execution_count": 25,
     "metadata": {},
     "output_type": "execute_result"
    }
   ],
   "source": [
    "geyser.kind.value_counts() # geyserin long ve short patlama sayıları "
   ]
  },
  {
   "cell_type": "code",
   "execution_count": 14,
   "id": "ebf2c89c-1376-444d-8bbc-1a325e90c650",
   "metadata": {},
   "outputs": [
    {
     "data": {
      "text/html": [
       "<div>\n",
       "<style scoped>\n",
       "    .dataframe tbody tr th:only-of-type {\n",
       "        vertical-align: middle;\n",
       "    }\n",
       "\n",
       "    .dataframe tbody tr th {\n",
       "        vertical-align: top;\n",
       "    }\n",
       "\n",
       "    .dataframe thead th {\n",
       "        text-align: right;\n",
       "    }\n",
       "</style>\n",
       "<table border=\"1\" class=\"dataframe\">\n",
       "  <thead>\n",
       "    <tr style=\"text-align: right;\">\n",
       "      <th></th>\n",
       "      <th>duration</th>\n",
       "      <th>waiting</th>\n",
       "      <th>kind</th>\n",
       "    </tr>\n",
       "  </thead>\n",
       "  <tbody>\n",
       "    <tr>\n",
       "      <th>0</th>\n",
       "      <td>3.600</td>\n",
       "      <td>79</td>\n",
       "      <td>long</td>\n",
       "    </tr>\n",
       "    <tr>\n",
       "      <th>1</th>\n",
       "      <td>1.800</td>\n",
       "      <td>54</td>\n",
       "      <td>short</td>\n",
       "    </tr>\n",
       "    <tr>\n",
       "      <th>2</th>\n",
       "      <td>3.333</td>\n",
       "      <td>74</td>\n",
       "      <td>long</td>\n",
       "    </tr>\n",
       "    <tr>\n",
       "      <th>3</th>\n",
       "      <td>2.283</td>\n",
       "      <td>62</td>\n",
       "      <td>short</td>\n",
       "    </tr>\n",
       "    <tr>\n",
       "      <th>4</th>\n",
       "      <td>4.533</td>\n",
       "      <td>85</td>\n",
       "      <td>long</td>\n",
       "    </tr>\n",
       "    <tr>\n",
       "      <th>...</th>\n",
       "      <td>...</td>\n",
       "      <td>...</td>\n",
       "      <td>...</td>\n",
       "    </tr>\n",
       "    <tr>\n",
       "      <th>265</th>\n",
       "      <td>2.250</td>\n",
       "      <td>60</td>\n",
       "      <td>short</td>\n",
       "    </tr>\n",
       "    <tr>\n",
       "      <th>266</th>\n",
       "      <td>4.750</td>\n",
       "      <td>75</td>\n",
       "      <td>long</td>\n",
       "    </tr>\n",
       "    <tr>\n",
       "      <th>267</th>\n",
       "      <td>4.117</td>\n",
       "      <td>81</td>\n",
       "      <td>long</td>\n",
       "    </tr>\n",
       "    <tr>\n",
       "      <th>269</th>\n",
       "      <td>4.417</td>\n",
       "      <td>90</td>\n",
       "      <td>long</td>\n",
       "    </tr>\n",
       "    <tr>\n",
       "      <th>271</th>\n",
       "      <td>4.467</td>\n",
       "      <td>74</td>\n",
       "      <td>long</td>\n",
       "    </tr>\n",
       "  </tbody>\n",
       "</table>\n",
       "<p>246 rows × 3 columns</p>\n",
       "</div>"
      ],
      "text/plain": [
       "     duration  waiting   kind\n",
       "0       3.600       79   long\n",
       "1       1.800       54  short\n",
       "2       3.333       74   long\n",
       "3       2.283       62  short\n",
       "4       4.533       85   long\n",
       "..        ...      ...    ...\n",
       "265     2.250       60  short\n",
       "266     4.750       75   long\n",
       "267     4.117       81   long\n",
       "269     4.417       90   long\n",
       "271     4.467       74   long\n",
       "\n",
       "[246 rows x 3 columns]"
      ]
     },
     "execution_count": 14,
     "metadata": {},
     "output_type": "execute_result"
    }
   ],
   "source": [
    "geyser[geyser.waiting > 50] # waiting 50 üzeri olan değerleri çağırdık 246 satır döndü"
   ]
  },
  {
   "cell_type": "code",
   "execution_count": 16,
   "id": "8b7065a8-822f-4ef0-b509-d29a7afa574d",
   "metadata": {},
   "outputs": [
    {
     "data": {
      "text/plain": [
       "np.int64(165)"
      ]
     },
     "execution_count": 16,
     "metadata": {},
     "output_type": "execute_result"
    }
   ],
   "source": [
    "(geyser[\"waiting\"] > 70).sum() # witing süresi 70 üzerinde olan 170 değer var"
   ]
  },
  {
   "cell_type": "code",
   "execution_count": 13,
   "id": "5a3fc3a0-a247-4532-a390-be25feccb1a6",
   "metadata": {},
   "outputs": [
    {
     "data": {
      "text/plain": [
       "kind\n",
       "long     172\n",
       "short     74\n",
       "Name: count, dtype: int64"
      ]
     },
     "execution_count": 13,
     "metadata": {},
     "output_type": "execute_result"
    }
   ],
   "source": [
    "geyser[geyser.waiting > 50]['kind'].value_counts() # waiting 50 ve üzeri olanları long ve short sayısına baktık"
   ]
  },
  {
   "cell_type": "code",
   "execution_count": 9,
   "id": "7bc5a5b4-c226-417b-aded-dbcf6b8e23d0",
   "metadata": {},
   "outputs": [
    {
     "data": {
      "text/plain": [
       "18     1.600\n",
       "57     1.667\n",
       "114    1.700\n",
       "54     1.733\n",
       "21     1.750\n",
       "62     1.750\n",
       "43     1.750\n",
       "16     1.750\n",
       "222    1.750\n",
       "13     1.750\n",
       "Name: duration, dtype: float64"
      ]
     },
     "execution_count": 9,
     "metadata": {},
     "output_type": "execute_result"
    }
   ],
   "source": [
    "geyser.duration.sort_values().head(10) # duration sütunu artan sıralamada ilk 10 değeri yazdı."
   ]
  },
  {
   "cell_type": "code",
   "execution_count": 38,
   "id": "4f84aa6a-9e4e-464d-ad4a-1dda90dd7d93",
   "metadata": {},
   "outputs": [
    {
     "data": {
      "text/html": [
       "<div>\n",
       "<style scoped>\n",
       "    .dataframe tbody tr th:only-of-type {\n",
       "        vertical-align: middle;\n",
       "    }\n",
       "\n",
       "    .dataframe tbody tr th {\n",
       "        vertical-align: top;\n",
       "    }\n",
       "\n",
       "    .dataframe thead th {\n",
       "        text-align: right;\n",
       "    }\n",
       "</style>\n",
       "<table border=\"1\" class=\"dataframe\">\n",
       "  <thead>\n",
       "    <tr style=\"text-align: right;\">\n",
       "      <th></th>\n",
       "      <th>duration</th>\n",
       "      <th>waiting</th>\n",
       "      <th>kind</th>\n",
       "    </tr>\n",
       "  </thead>\n",
       "  <tbody>\n",
       "    <tr>\n",
       "      <th>148</th>\n",
       "      <td>5.100</td>\n",
       "      <td>96</td>\n",
       "      <td>long</td>\n",
       "    </tr>\n",
       "    <tr>\n",
       "      <th>217</th>\n",
       "      <td>4.800</td>\n",
       "      <td>94</td>\n",
       "      <td>long</td>\n",
       "    </tr>\n",
       "    <tr>\n",
       "      <th>169</th>\n",
       "      <td>4.617</td>\n",
       "      <td>93</td>\n",
       "      <td>long</td>\n",
       "    </tr>\n",
       "    <tr>\n",
       "      <th>157</th>\n",
       "      <td>4.083</td>\n",
       "      <td>93</td>\n",
       "      <td>long</td>\n",
       "    </tr>\n",
       "    <tr>\n",
       "      <th>65</th>\n",
       "      <td>4.400</td>\n",
       "      <td>92</td>\n",
       "      <td>long</td>\n",
       "    </tr>\n",
       "    <tr>\n",
       "      <th>...</th>\n",
       "      <td>...</td>\n",
       "      <td>...</td>\n",
       "      <td>...</td>\n",
       "    </tr>\n",
       "    <tr>\n",
       "      <th>134</th>\n",
       "      <td>1.833</td>\n",
       "      <td>46</td>\n",
       "      <td>short</td>\n",
       "    </tr>\n",
       "    <tr>\n",
       "      <th>130</th>\n",
       "      <td>1.867</td>\n",
       "      <td>45</td>\n",
       "      <td>short</td>\n",
       "    </tr>\n",
       "    <tr>\n",
       "      <th>126</th>\n",
       "      <td>1.917</td>\n",
       "      <td>45</td>\n",
       "      <td>short</td>\n",
       "    </tr>\n",
       "    <tr>\n",
       "      <th>160</th>\n",
       "      <td>2.200</td>\n",
       "      <td>45</td>\n",
       "      <td>short</td>\n",
       "    </tr>\n",
       "    <tr>\n",
       "      <th>264</th>\n",
       "      <td>1.983</td>\n",
       "      <td>43</td>\n",
       "      <td>short</td>\n",
       "    </tr>\n",
       "  </tbody>\n",
       "</table>\n",
       "<p>272 rows × 3 columns</p>\n",
       "</div>"
      ],
      "text/plain": [
       "     duration  waiting   kind\n",
       "148     5.100       96   long\n",
       "217     4.800       94   long\n",
       "169     4.617       93   long\n",
       "157     4.083       93   long\n",
       "65      4.400       92   long\n",
       "..        ...      ...    ...\n",
       "134     1.833       46  short\n",
       "130     1.867       45  short\n",
       "126     1.917       45  short\n",
       "160     2.200       45  short\n",
       "264     1.983       43  short\n",
       "\n",
       "[272 rows x 3 columns]"
      ]
     },
     "execution_count": 38,
     "metadata": {},
     "output_type": "execute_result"
    }
   ],
   "source": [
    "geyser.sort_values(by = 'waiting', ascending = False) # waiting sütununa göre büyükten küçüğe sıraladı"
   ]
  },
  {
   "cell_type": "code",
   "execution_count": 39,
   "id": "9a2b1b38-63fd-4c66-a1a3-bd7933316950",
   "metadata": {},
   "outputs": [
    {
     "data": {
      "text/plain": [
       "kind\n",
       "long     4.29793\n",
       "short    2.09433\n",
       "Name: duration, dtype: float64"
      ]
     },
     "execution_count": 39,
     "metadata": {},
     "output_type": "execute_result"
    }
   ],
   "source": [
    "geyser.groupby('kind')['duration'].mean() # kind a göre duration'ların ortalamasını aldık"
   ]
  },
  {
   "cell_type": "code",
   "execution_count": 42,
   "id": "d2288d8e-02ae-4615-98da-bc7b4675f84d",
   "metadata": {},
   "outputs": [
    {
     "data": {
      "text/plain": [
       "kind\n",
       "long     80.284884\n",
       "short    54.750000\n",
       "Name: waiting, dtype: float64"
      ]
     },
     "execution_count": 42,
     "metadata": {},
     "output_type": "execute_result"
    }
   ],
   "source": [
    "geyser.groupby('kind')['waiting'].mean() # waiting a göre duration'ların ortalamasını aldık"
   ]
  },
  {
   "cell_type": "code",
   "execution_count": 40,
   "id": "aace13ae-5431-41cd-accc-d8dfda1418f7",
   "metadata": {},
   "outputs": [
    {
     "data": {
      "text/plain": [
       "duration    3.5\n",
       "dtype: float64"
      ]
     },
     "execution_count": 40,
     "metadata": {},
     "output_type": "execute_result"
    }
   ],
   "source": [
    "geyser.agg({'duration': lambda x: x.max()-x.min()}) # duration için max değer ve min değer arasındaki farkı aldı"
   ]
  },
  {
   "cell_type": "code",
   "execution_count": 41,
   "id": "c27c2fa3-adb3-4661-a184-8bb44b76e486",
   "metadata": {},
   "outputs": [
    {
     "data": {
      "text/plain": [
       "waiting    53\n",
       "dtype: int64"
      ]
     },
     "execution_count": 41,
     "metadata": {},
     "output_type": "execute_result"
    }
   ],
   "source": [
    "geyser.agg({'waiting': lambda x: x.max()-x.min()}) # waiting için max değer ve min değer arasındaki farkı aldı"
   ]
  },
  {
   "cell_type": "code",
   "execution_count": 17,
   "id": "f542b6ef-b709-4f93-8ed7-40ab61c0bc8b",
   "metadata": {},
   "outputs": [
    {
     "data": {
      "text/plain": [
       "np.float64(79.98857142857143)"
      ]
     },
     "execution_count": 17,
     "metadata": {},
     "output_type": "execute_result"
    }
   ],
   "source": [
    "geyser.loc[geyser[\"duration\"] > 3, \"waiting\"].mean() # durationu 3 üzeri olan değerlerin waiting ortalamasını buldu"
   ]
  },
  {
   "cell_type": "code",
   "execution_count": 47,
   "id": "83e07b50-2c0d-43de-84b0-a1261c5efef4",
   "metadata": {},
   "outputs": [
    {
     "data": {
      "text/plain": [
       "np.float64(3.4877830882352936)"
      ]
     },
     "execution_count": 47,
     "metadata": {},
     "output_type": "execute_result"
    }
   ],
   "source": [
    "geyser['duration'].mean()"
   ]
  },
  {
   "cell_type": "code",
   "execution_count": 65,
   "id": "d7687e08-6f60-42d7-bc38-e7298f5a2b5c",
   "metadata": {
    "scrolled": true
   },
   "outputs": [
    {
     "data": {
      "text/html": [
       "<div>\n",
       "<style scoped>\n",
       "    .dataframe tbody tr th:only-of-type {\n",
       "        vertical-align: middle;\n",
       "    }\n",
       "\n",
       "    .dataframe tbody tr th {\n",
       "        vertical-align: top;\n",
       "    }\n",
       "\n",
       "    .dataframe thead th {\n",
       "        text-align: right;\n",
       "    }\n",
       "</style>\n",
       "<table border=\"1\" class=\"dataframe\">\n",
       "  <thead>\n",
       "    <tr style=\"text-align: right;\">\n",
       "      <th></th>\n",
       "      <th>duration</th>\n",
       "      <th>waiting</th>\n",
       "      <th>kind</th>\n",
       "    </tr>\n",
       "  </thead>\n",
       "  <tbody>\n",
       "    <tr>\n",
       "      <th>0</th>\n",
       "      <td>3.600</td>\n",
       "      <td>79</td>\n",
       "      <td>long</td>\n",
       "    </tr>\n",
       "    <tr>\n",
       "      <th>2</th>\n",
       "      <td>3.333</td>\n",
       "      <td>74</td>\n",
       "      <td>long</td>\n",
       "    </tr>\n",
       "    <tr>\n",
       "      <th>4</th>\n",
       "      <td>4.533</td>\n",
       "      <td>85</td>\n",
       "      <td>long</td>\n",
       "    </tr>\n",
       "    <tr>\n",
       "      <th>6</th>\n",
       "      <td>4.700</td>\n",
       "      <td>88</td>\n",
       "      <td>long</td>\n",
       "    </tr>\n",
       "    <tr>\n",
       "      <th>7</th>\n",
       "      <td>3.600</td>\n",
       "      <td>85</td>\n",
       "      <td>long</td>\n",
       "    </tr>\n",
       "    <tr>\n",
       "      <th>...</th>\n",
       "      <td>...</td>\n",
       "      <td>...</td>\n",
       "      <td>...</td>\n",
       "    </tr>\n",
       "    <tr>\n",
       "      <th>263</th>\n",
       "      <td>4.250</td>\n",
       "      <td>83</td>\n",
       "      <td>long</td>\n",
       "    </tr>\n",
       "    <tr>\n",
       "      <th>266</th>\n",
       "      <td>4.750</td>\n",
       "      <td>75</td>\n",
       "      <td>long</td>\n",
       "    </tr>\n",
       "    <tr>\n",
       "      <th>267</th>\n",
       "      <td>4.117</td>\n",
       "      <td>81</td>\n",
       "      <td>long</td>\n",
       "    </tr>\n",
       "    <tr>\n",
       "      <th>269</th>\n",
       "      <td>4.417</td>\n",
       "      <td>90</td>\n",
       "      <td>long</td>\n",
       "    </tr>\n",
       "    <tr>\n",
       "      <th>271</th>\n",
       "      <td>4.467</td>\n",
       "      <td>74</td>\n",
       "      <td>long</td>\n",
       "    </tr>\n",
       "  </tbody>\n",
       "</table>\n",
       "<p>172 rows × 3 columns</p>\n",
       "</div>"
      ],
      "text/plain": [
       "     duration  waiting  kind\n",
       "0       3.600       79  long\n",
       "2       3.333       74  long\n",
       "4       4.533       85  long\n",
       "6       4.700       88  long\n",
       "7       3.600       85  long\n",
       "..        ...      ...   ...\n",
       "263     4.250       83  long\n",
       "266     4.750       75  long\n",
       "267     4.117       81  long\n",
       "269     4.417       90  long\n",
       "271     4.467       74  long\n",
       "\n",
       "[172 rows x 3 columns]"
      ]
     },
     "execution_count": 65,
     "metadata": {},
     "output_type": "execute_result"
    }
   ],
   "source": [
    "geyser.groupby('kind').filter(lambda x: x['duration'].mean() > geyser['duration'].mean())\n",
    "# kind ile gruplama yaptık ve grupladığımız her elemanın ortalaması sütunun ortalamasındana büyük olanı getirdi"
   ]
  },
  {
   "cell_type": "code",
   "execution_count": 20,
   "id": "af31ef86-22c6-4ec0-b635-608bd852b629",
   "metadata": {},
   "outputs": [
    {
     "data": {
      "text/html": [
       "<div>\n",
       "<style scoped>\n",
       "    .dataframe tbody tr th:only-of-type {\n",
       "        vertical-align: middle;\n",
       "    }\n",
       "\n",
       "    .dataframe tbody tr th {\n",
       "        vertical-align: top;\n",
       "    }\n",
       "\n",
       "    .dataframe thead th {\n",
       "        text-align: right;\n",
       "    }\n",
       "</style>\n",
       "<table border=\"1\" class=\"dataframe\">\n",
       "  <thead>\n",
       "    <tr style=\"text-align: right;\">\n",
       "      <th></th>\n",
       "      <th>duration</th>\n",
       "      <th>waiting</th>\n",
       "      <th>kind</th>\n",
       "      <th>denger</th>\n",
       "    </tr>\n",
       "  </thead>\n",
       "  <tbody>\n",
       "    <tr>\n",
       "      <th>0</th>\n",
       "      <td>3.600</td>\n",
       "      <td>79</td>\n",
       "      <td>long</td>\n",
       "      <td>hight risk</td>\n",
       "    </tr>\n",
       "    <tr>\n",
       "      <th>1</th>\n",
       "      <td>1.800</td>\n",
       "      <td>54</td>\n",
       "      <td>short</td>\n",
       "      <td>low risk</td>\n",
       "    </tr>\n",
       "    <tr>\n",
       "      <th>2</th>\n",
       "      <td>3.333</td>\n",
       "      <td>74</td>\n",
       "      <td>long</td>\n",
       "      <td>hight risk</td>\n",
       "    </tr>\n",
       "    <tr>\n",
       "      <th>3</th>\n",
       "      <td>2.283</td>\n",
       "      <td>62</td>\n",
       "      <td>short</td>\n",
       "      <td>low risk</td>\n",
       "    </tr>\n",
       "    <tr>\n",
       "      <th>4</th>\n",
       "      <td>4.533</td>\n",
       "      <td>85</td>\n",
       "      <td>long</td>\n",
       "      <td>hight risk</td>\n",
       "    </tr>\n",
       "    <tr>\n",
       "      <th>...</th>\n",
       "      <td>...</td>\n",
       "      <td>...</td>\n",
       "      <td>...</td>\n",
       "      <td>...</td>\n",
       "    </tr>\n",
       "    <tr>\n",
       "      <th>267</th>\n",
       "      <td>4.117</td>\n",
       "      <td>81</td>\n",
       "      <td>long</td>\n",
       "      <td>hight risk</td>\n",
       "    </tr>\n",
       "    <tr>\n",
       "      <th>268</th>\n",
       "      <td>2.150</td>\n",
       "      <td>46</td>\n",
       "      <td>short</td>\n",
       "      <td>low risk</td>\n",
       "    </tr>\n",
       "    <tr>\n",
       "      <th>269</th>\n",
       "      <td>4.417</td>\n",
       "      <td>90</td>\n",
       "      <td>long</td>\n",
       "      <td>hight risk</td>\n",
       "    </tr>\n",
       "    <tr>\n",
       "      <th>270</th>\n",
       "      <td>1.817</td>\n",
       "      <td>46</td>\n",
       "      <td>short</td>\n",
       "      <td>low risk</td>\n",
       "    </tr>\n",
       "    <tr>\n",
       "      <th>271</th>\n",
       "      <td>4.467</td>\n",
       "      <td>74</td>\n",
       "      <td>long</td>\n",
       "      <td>hight risk</td>\n",
       "    </tr>\n",
       "  </tbody>\n",
       "</table>\n",
       "<p>272 rows × 4 columns</p>\n",
       "</div>"
      ],
      "text/plain": [
       "     duration  waiting   kind      denger\n",
       "0       3.600       79   long  hight risk\n",
       "1       1.800       54  short    low risk\n",
       "2       3.333       74   long  hight risk\n",
       "3       2.283       62  short    low risk\n",
       "4       4.533       85   long  hight risk\n",
       "..        ...      ...    ...         ...\n",
       "267     4.117       81   long  hight risk\n",
       "268     2.150       46  short    low risk\n",
       "269     4.417       90   long  hight risk\n",
       "270     1.817       46  short    low risk\n",
       "271     4.467       74   long  hight risk\n",
       "\n",
       "[272 rows x 4 columns]"
      ]
     },
     "execution_count": 20,
     "metadata": {},
     "output_type": "execute_result"
    }
   ],
   "source": [
    "geyser['denger'] = np.where(( geyser['duration'] > 2.0 ) & ( geyser['kind'] == 'long' ) & (geyser['waiting'] > 50 ) , 'hight risk' , 'low risk' )\n",
    "geyser\n",
    "# risk içeren bir denger sütunu oluşturduk\n",
    "# duration 2.0 dan büyük, kind = long ve waiting 50 ve üzeri olanlara hight risk yazdı, bunlardan birini sağlamıyorsa low risk yazdı"
   ]
  },
  {
   "cell_type": "code",
   "execution_count": 69,
   "id": "457f8436-ebba-4b2c-8c39-2b48ba19493a",
   "metadata": {},
   "outputs": [
    {
     "data": {
      "text/plain": [
       "denger\n",
       "hight risk    172\n",
       "low risk      100\n",
       "Name: count, dtype: int64"
      ]
     },
     "execution_count": 69,
     "metadata": {},
     "output_type": "execute_result"
    }
   ],
   "source": [
    "geyser.denger.value_counts() # denger value saydı"
   ]
  },
  {
   "cell_type": "code",
   "execution_count": 71,
   "id": "d70a82dd-f26c-4222-abc6-23495e9ab007",
   "metadata": {},
   "outputs": [
    {
     "data": {
      "text/html": [
       "<div>\n",
       "<style scoped>\n",
       "    .dataframe tbody tr th:only-of-type {\n",
       "        vertical-align: middle;\n",
       "    }\n",
       "\n",
       "    .dataframe tbody tr th {\n",
       "        vertical-align: top;\n",
       "    }\n",
       "\n",
       "    .dataframe thead th {\n",
       "        text-align: right;\n",
       "    }\n",
       "</style>\n",
       "<table border=\"1\" class=\"dataframe\">\n",
       "  <thead>\n",
       "    <tr style=\"text-align: right;\">\n",
       "      <th></th>\n",
       "      <th>duration</th>\n",
       "      <th>waiting</th>\n",
       "      <th>kind</th>\n",
       "      <th>denger</th>\n",
       "    </tr>\n",
       "  </thead>\n",
       "  <tbody>\n",
       "    <tr>\n",
       "      <th>0</th>\n",
       "      <td>3.600</td>\n",
       "      <td>79</td>\n",
       "      <td>long</td>\n",
       "      <td>hight risk</td>\n",
       "    </tr>\n",
       "    <tr>\n",
       "      <th>1</th>\n",
       "      <td>1.800</td>\n",
       "      <td>54</td>\n",
       "      <td>short</td>\n",
       "      <td>low risk</td>\n",
       "    </tr>\n",
       "    <tr>\n",
       "      <th>2</th>\n",
       "      <td>3.333</td>\n",
       "      <td>74</td>\n",
       "      <td>long</td>\n",
       "      <td>hight risk</td>\n",
       "    </tr>\n",
       "    <tr>\n",
       "      <th>3</th>\n",
       "      <td>2.283</td>\n",
       "      <td>62</td>\n",
       "      <td>short</td>\n",
       "      <td>low risk</td>\n",
       "    </tr>\n",
       "    <tr>\n",
       "      <th>4</th>\n",
       "      <td>4.533</td>\n",
       "      <td>85</td>\n",
       "      <td>long</td>\n",
       "      <td>hight risk</td>\n",
       "    </tr>\n",
       "  </tbody>\n",
       "</table>\n",
       "</div>"
      ],
      "text/plain": [
       "   duration  waiting   kind      denger\n",
       "0     3.600       79   long  hight risk\n",
       "1     1.800       54  short    low risk\n",
       "2     3.333       74   long  hight risk\n",
       "3     2.283       62  short    low risk\n",
       "4     4.533       85   long  hight risk"
      ]
     },
     "execution_count": 71,
     "metadata": {},
     "output_type": "execute_result"
    }
   ],
   "source": [
    "geyser.head()"
   ]
  },
  {
   "cell_type": "code",
   "execution_count": 77,
   "id": "e091bc7b-2a7b-4b47-ba1a-a4f173d916e7",
   "metadata": {},
   "outputs": [
    {
     "data": {
      "text/html": [
       "<div>\n",
       "<style scoped>\n",
       "    .dataframe tbody tr th:only-of-type {\n",
       "        vertical-align: middle;\n",
       "    }\n",
       "\n",
       "    .dataframe tbody tr th {\n",
       "        vertical-align: top;\n",
       "    }\n",
       "\n",
       "    .dataframe thead th {\n",
       "        text-align: right;\n",
       "    }\n",
       "</style>\n",
       "<table border=\"1\" class=\"dataframe\">\n",
       "  <thead>\n",
       "    <tr style=\"text-align: right;\">\n",
       "      <th></th>\n",
       "      <th>duration</th>\n",
       "      <th>waiting</th>\n",
       "      <th>kind</th>\n",
       "      <th>denger</th>\n",
       "    </tr>\n",
       "  </thead>\n",
       "  <tbody>\n",
       "    <tr>\n",
       "      <th>0</th>\n",
       "      <td>False</td>\n",
       "      <td>False</td>\n",
       "      <td>False</td>\n",
       "      <td>False</td>\n",
       "    </tr>\n",
       "    <tr>\n",
       "      <th>1</th>\n",
       "      <td>False</td>\n",
       "      <td>False</td>\n",
       "      <td>False</td>\n",
       "      <td>False</td>\n",
       "    </tr>\n",
       "    <tr>\n",
       "      <th>2</th>\n",
       "      <td>False</td>\n",
       "      <td>False</td>\n",
       "      <td>False</td>\n",
       "      <td>False</td>\n",
       "    </tr>\n",
       "    <tr>\n",
       "      <th>3</th>\n",
       "      <td>False</td>\n",
       "      <td>False</td>\n",
       "      <td>False</td>\n",
       "      <td>False</td>\n",
       "    </tr>\n",
       "    <tr>\n",
       "      <th>4</th>\n",
       "      <td>False</td>\n",
       "      <td>False</td>\n",
       "      <td>False</td>\n",
       "      <td>False</td>\n",
       "    </tr>\n",
       "    <tr>\n",
       "      <th>...</th>\n",
       "      <td>...</td>\n",
       "      <td>...</td>\n",
       "      <td>...</td>\n",
       "      <td>...</td>\n",
       "    </tr>\n",
       "    <tr>\n",
       "      <th>267</th>\n",
       "      <td>False</td>\n",
       "      <td>False</td>\n",
       "      <td>False</td>\n",
       "      <td>False</td>\n",
       "    </tr>\n",
       "    <tr>\n",
       "      <th>268</th>\n",
       "      <td>False</td>\n",
       "      <td>False</td>\n",
       "      <td>False</td>\n",
       "      <td>False</td>\n",
       "    </tr>\n",
       "    <tr>\n",
       "      <th>269</th>\n",
       "      <td>False</td>\n",
       "      <td>False</td>\n",
       "      <td>False</td>\n",
       "      <td>False</td>\n",
       "    </tr>\n",
       "    <tr>\n",
       "      <th>270</th>\n",
       "      <td>False</td>\n",
       "      <td>False</td>\n",
       "      <td>False</td>\n",
       "      <td>False</td>\n",
       "    </tr>\n",
       "    <tr>\n",
       "      <th>271</th>\n",
       "      <td>False</td>\n",
       "      <td>False</td>\n",
       "      <td>False</td>\n",
       "      <td>False</td>\n",
       "    </tr>\n",
       "  </tbody>\n",
       "</table>\n",
       "<p>272 rows × 4 columns</p>\n",
       "</div>"
      ],
      "text/plain": [
       "     duration  waiting   kind  denger\n",
       "0       False    False  False   False\n",
       "1       False    False  False   False\n",
       "2       False    False  False   False\n",
       "3       False    False  False   False\n",
       "4       False    False  False   False\n",
       "..        ...      ...    ...     ...\n",
       "267     False    False  False   False\n",
       "268     False    False  False   False\n",
       "269     False    False  False   False\n",
       "270     False    False  False   False\n",
       "271     False    False  False   False\n",
       "\n",
       "[272 rows x 4 columns]"
      ]
     },
     "execution_count": 77,
     "metadata": {},
     "output_type": "execute_result"
    }
   ],
   "source": [
    "geyser.isna() # satır sütun bazında boş değer varmı baktı. Boş olmayan değerlere False boş olana True yazdı."
   ]
  },
  {
   "cell_type": "code",
   "execution_count": 72,
   "id": "128486f2-a183-460e-bc47-d29477d978bd",
   "metadata": {},
   "outputs": [
    {
     "data": {
      "text/plain": [
       "duration    0\n",
       "waiting     0\n",
       "kind        0\n",
       "denger      0\n",
       "dtype: int64"
      ]
     },
     "execution_count": 72,
     "metadata": {},
     "output_type": "execute_result"
    }
   ],
   "source": [
    "geyser.isnull().sum() # sütunlarda nan değer varmı baktı"
   ]
  },
  {
   "cell_type": "code",
   "execution_count": 78,
   "id": "d0ee6550-34fe-4083-8895-43f891b0e743",
   "metadata": {},
   "outputs": [
    {
     "data": {
      "text/html": [
       "<div>\n",
       "<style scoped>\n",
       "    .dataframe tbody tr th:only-of-type {\n",
       "        vertical-align: middle;\n",
       "    }\n",
       "\n",
       "    .dataframe tbody tr th {\n",
       "        vertical-align: top;\n",
       "    }\n",
       "\n",
       "    .dataframe thead th {\n",
       "        text-align: right;\n",
       "    }\n",
       "</style>\n",
       "<table border=\"1\" class=\"dataframe\">\n",
       "  <thead>\n",
       "    <tr style=\"text-align: right;\">\n",
       "      <th></th>\n",
       "      <th>duration</th>\n",
       "      <th>waiting</th>\n",
       "      <th>kind</th>\n",
       "      <th>denger</th>\n",
       "    </tr>\n",
       "  </thead>\n",
       "  <tbody>\n",
       "    <tr>\n",
       "      <th>0</th>\n",
       "      <td>True</td>\n",
       "      <td>True</td>\n",
       "      <td>True</td>\n",
       "      <td>True</td>\n",
       "    </tr>\n",
       "    <tr>\n",
       "      <th>1</th>\n",
       "      <td>True</td>\n",
       "      <td>True</td>\n",
       "      <td>True</td>\n",
       "      <td>True</td>\n",
       "    </tr>\n",
       "    <tr>\n",
       "      <th>2</th>\n",
       "      <td>True</td>\n",
       "      <td>True</td>\n",
       "      <td>True</td>\n",
       "      <td>True</td>\n",
       "    </tr>\n",
       "    <tr>\n",
       "      <th>3</th>\n",
       "      <td>True</td>\n",
       "      <td>True</td>\n",
       "      <td>True</td>\n",
       "      <td>True</td>\n",
       "    </tr>\n",
       "    <tr>\n",
       "      <th>4</th>\n",
       "      <td>True</td>\n",
       "      <td>True</td>\n",
       "      <td>True</td>\n",
       "      <td>True</td>\n",
       "    </tr>\n",
       "    <tr>\n",
       "      <th>...</th>\n",
       "      <td>...</td>\n",
       "      <td>...</td>\n",
       "      <td>...</td>\n",
       "      <td>...</td>\n",
       "    </tr>\n",
       "    <tr>\n",
       "      <th>267</th>\n",
       "      <td>True</td>\n",
       "      <td>True</td>\n",
       "      <td>True</td>\n",
       "      <td>True</td>\n",
       "    </tr>\n",
       "    <tr>\n",
       "      <th>268</th>\n",
       "      <td>True</td>\n",
       "      <td>True</td>\n",
       "      <td>True</td>\n",
       "      <td>True</td>\n",
       "    </tr>\n",
       "    <tr>\n",
       "      <th>269</th>\n",
       "      <td>True</td>\n",
       "      <td>True</td>\n",
       "      <td>True</td>\n",
       "      <td>True</td>\n",
       "    </tr>\n",
       "    <tr>\n",
       "      <th>270</th>\n",
       "      <td>True</td>\n",
       "      <td>True</td>\n",
       "      <td>True</td>\n",
       "      <td>True</td>\n",
       "    </tr>\n",
       "    <tr>\n",
       "      <th>271</th>\n",
       "      <td>True</td>\n",
       "      <td>True</td>\n",
       "      <td>True</td>\n",
       "      <td>True</td>\n",
       "    </tr>\n",
       "  </tbody>\n",
       "</table>\n",
       "<p>272 rows × 4 columns</p>\n",
       "</div>"
      ],
      "text/plain": [
       "     duration  waiting  kind  denger\n",
       "0        True     True  True    True\n",
       "1        True     True  True    True\n",
       "2        True     True  True    True\n",
       "3        True     True  True    True\n",
       "4        True     True  True    True\n",
       "..        ...      ...   ...     ...\n",
       "267      True     True  True    True\n",
       "268      True     True  True    True\n",
       "269      True     True  True    True\n",
       "270      True     True  True    True\n",
       "271      True     True  True    True\n",
       "\n",
       "[272 rows x 4 columns]"
      ]
     },
     "execution_count": 78,
     "metadata": {},
     "output_type": "execute_result"
    }
   ],
   "source": [
    "geyser.notnull() # satır sütun bazında boş olmayan değerlere baktı. Boş olmayanlara True boş olana False yazdı"
   ]
  },
  {
   "cell_type": "code",
   "execution_count": 75,
   "id": "4ef6cbb0-27bc-41b9-9392-32a71b99cbcf",
   "metadata": {},
   "outputs": [
    {
     "data": {
      "text/plain": [
       "duration    272\n",
       "waiting     272\n",
       "kind        272\n",
       "denger      272\n",
       "dtype: int64"
      ]
     },
     "execution_count": 75,
     "metadata": {},
     "output_type": "execute_result"
    }
   ],
   "source": [
    "geyser.notna().sum() # dolu olan değer sayısına sütun bazında baktı"
   ]
  },
  {
   "cell_type": "code",
   "execution_count": 79,
   "id": "21fa9513-09c0-4d05-8cdb-340bc84545b2",
   "metadata": {},
   "outputs": [
    {
     "data": {
      "text/plain": [
       "0    long\n",
       "Name: kind, dtype: object"
      ]
     },
     "execution_count": 79,
     "metadata": {},
     "output_type": "execute_result"
    }
   ],
   "source": [
    "geyser.kind.mode() # kind en çok tekrar eden değeri getirdi."
   ]
  },
  {
   "cell_type": "code",
   "execution_count": 81,
   "id": "591e38a4-ff7f-41bc-9615-8a4e22620251",
   "metadata": {},
   "outputs": [
    {
     "data": {
      "text/plain": [
       "0    hight risk\n",
       "Name: denger, dtype: object"
      ]
     },
     "execution_count": 81,
     "metadata": {},
     "output_type": "execute_result"
    }
   ],
   "source": [
    "geyser.denger.mode() # denger en çok tekrar eden değeri getirdi."
   ]
  },
  {
   "cell_type": "markdown",
   "id": "3de2f0d9-5344-4eb2-b9a6-740a3c1d72f4",
   "metadata": {},
   "source": [
    "# Matplotlib Grafikler"
   ]
  },
  {
   "cell_type": "code",
   "execution_count": 82,
   "id": "5a00b224-2f2a-408d-a996-0d048b99d1fc",
   "metadata": {},
   "outputs": [
    {
     "data": {
      "text/html": [
       "<div>\n",
       "<style scoped>\n",
       "    .dataframe tbody tr th:only-of-type {\n",
       "        vertical-align: middle;\n",
       "    }\n",
       "\n",
       "    .dataframe tbody tr th {\n",
       "        vertical-align: top;\n",
       "    }\n",
       "\n",
       "    .dataframe thead th {\n",
       "        text-align: right;\n",
       "    }\n",
       "</style>\n",
       "<table border=\"1\" class=\"dataframe\">\n",
       "  <thead>\n",
       "    <tr style=\"text-align: right;\">\n",
       "      <th></th>\n",
       "      <th>duration</th>\n",
       "      <th>waiting</th>\n",
       "      <th>kind</th>\n",
       "      <th>denger</th>\n",
       "    </tr>\n",
       "  </thead>\n",
       "  <tbody>\n",
       "    <tr>\n",
       "      <th>161</th>\n",
       "      <td>4.15</td>\n",
       "      <td>86</td>\n",
       "      <td>long</td>\n",
       "      <td>hight risk</td>\n",
       "    </tr>\n",
       "  </tbody>\n",
       "</table>\n",
       "</div>"
      ],
      "text/plain": [
       "     duration  waiting  kind      denger\n",
       "161      4.15       86  long  hight risk"
      ]
     },
     "execution_count": 82,
     "metadata": {},
     "output_type": "execute_result"
    }
   ],
   "source": [
    "geyser.sample()"
   ]
  },
  {
   "cell_type": "code",
   "execution_count": 7,
   "id": "fc21f7a7-7fbe-4a2f-8175-20211dc3ef32",
   "metadata": {},
   "outputs": [
    {
     "data": {
      "image/png": "[encoded data removed]",
      "text/plain": [
       "<Figure size 1000x600 with 1 Axes>"
      ]
     },
     "metadata": {},
     "output_type": "display_data"
    }
   ],
   "source": [
    "plt.figure(figsize = (10,6)) # line grafik\n",
    "\n",
    "plt.plot(geyser['waiting'],geyser['duration'], 'r*')\n",
    "plt.xlabel('Waiting', c = 'r', size = 20)\n",
    "plt.ylabel('Duration', c = 'r', size = 20)\n",
    "plt.title('Duration and Waiting', c = 'r', size = 20)\n",
    "plt.show()"
   ]
  },
  {
   "cell_type": "code",
   "execution_count": 102,
   "id": "d0b547d9-9a0e-4933-b09d-8d1fe924a0e9",
   "metadata": {},
   "outputs": [
    {
     "data": {
      "image/png": "[encoded data removed]",
      "text/plain": [
       "<Figure size 1000x600 with 1 Axes>"
      ]
     },
     "metadata": {},
     "output_type": "display_data"
    }
   ],
   "source": [
    "plt.figure(figsize = (10,6)) # scatter grafik\n",
    "\n",
    "plt.scatter(geyser['waiting'],geyser['duration'], color = 'm')\n",
    "plt.xlabel('Waiting', c = 'r', size = 20)\n",
    "plt.ylabel('Duration', c = 'r', size = 20)\n",
    "plt.title('Duration and Waiting', c = 'r', size = 20)\n",
    "plt.show()"
   ]
  },
  {
   "cell_type": "code",
   "execution_count": 112,
   "id": "b6db17bc-4f01-470a-b648-d7f2f5bcdd6c",
   "metadata": {},
   "outputs": [
    {
     "data": {
      "image/png": "[encoded data removed]",
      "text/plain": [
       "<Figure size 1000x600 with 1 Axes>"
      ]
     },
     "metadata": {},
     "output_type": "display_data"
    }
   ],
   "source": [
    "plt.figure(figsize = (10,6)) # bar grafik\n",
    "\n",
    "plt.bar(geyser['kind'],geyser['duration'], color = 'b')\n",
    "plt.xlabel('Kind', c = 'b', size = 20)\n",
    "plt.ylabel('Duration', c = 'b', size = 20)\n",
    "plt.title('Duration and Kind', c = 'b', size = 20)\n",
    "\n",
    "plt.show()"
   ]
  },
  {
   "cell_type": "code",
   "execution_count": 105,
   "id": "fbaebb2c-b83a-4b23-ac95-48e3882ef046",
   "metadata": {},
   "outputs": [
    {
     "data": {
      "image/png": "[encoded data removed]",
      "text/plain": [
       "<Figure size 1000x600 with 1 Axes>"
      ]
     },
     "metadata": {},
     "output_type": "display_data"
    }
   ],
   "source": [
    "plt.figure(figsize = (10,6)) # bar grafik\n",
    "\n",
    "plt.bar(geyser['denger'],geyser['waiting'], color = 'y')\n",
    "plt.xlabel('Denger', c = 'y', size = 20)\n",
    "plt.ylabel('Waiting', c = 'y', size = 20)\n",
    "plt.title('Denger and Waiting', c = 'r', size = 20)\n",
    "plt.show()"
   ]
  },
  {
   "cell_type": "code",
   "execution_count": 120,
   "id": "3b97de55-0d2a-4cd2-b3b6-b5f76554be14",
   "metadata": {},
   "outputs": [
    {
     "data": {
      "image/png": "[encoded data removed]",
      "text/plain": [
       "<Figure size 640x480 with 1 Axes>"
      ]
     },
     "metadata": {},
     "output_type": "display_data"
    }
   ],
   "source": [
    "plt.hist(geyser['waiting'], bins = 100, alpha = 0.7, color = 'purple',edgecolor = 'black') # hist grafik\n",
    "plt.title('Waiting Histogram')\n",
    "plt.xlabel('Waiting')\n",
    "plt.ylabel('Density', fontsize= 14)\n",
    "plt.show()"
   ]
  },
  {
   "cell_type": "code",
   "execution_count": 122,
   "id": "d6af3ad5-cd1e-437d-9282-f30cefe53857",
   "metadata": {},
   "outputs": [
    {
     "data": {
      "text/html": [
       "<div>\n",
       "<style scoped>\n",
       "    .dataframe tbody tr th:only-of-type {\n",
       "        vertical-align: middle;\n",
       "    }\n",
       "\n",
       "    .dataframe tbody tr th {\n",
       "        vertical-align: top;\n",
       "    }\n",
       "\n",
       "    .dataframe thead th {\n",
       "        text-align: right;\n",
       "    }\n",
       "</style>\n",
       "<table border=\"1\" class=\"dataframe\">\n",
       "  <thead>\n",
       "    <tr style=\"text-align: right;\">\n",
       "      <th></th>\n",
       "      <th>duration</th>\n",
       "      <th>waiting</th>\n",
       "      <th>kind</th>\n",
       "      <th>denger</th>\n",
       "    </tr>\n",
       "  </thead>\n",
       "  <tbody>\n",
       "    <tr>\n",
       "      <th>132</th>\n",
       "      <td>2.8</td>\n",
       "      <td>56</td>\n",
       "      <td>short</td>\n",
       "      <td>low risk</td>\n",
       "    </tr>\n",
       "  </tbody>\n",
       "</table>\n",
       "</div>"
      ],
      "text/plain": [
       "     duration  waiting   kind    denger\n",
       "132       2.8       56  short  low risk"
      ]
     },
     "execution_count": 122,
     "metadata": {},
     "output_type": "execute_result"
    }
   ],
   "source": [
    "geyser.sample()"
   ]
  },
  {
   "cell_type": "code",
   "execution_count": 129,
   "id": "4199a36f-b6cb-4e48-a78f-c05cd864f7ad",
   "metadata": {},
   "outputs": [
    {
     "data": {
      "text/plain": [
       "denger\n",
       "hight risk    172\n",
       "low risk      100\n",
       "Name: count, dtype: int64"
      ]
     },
     "execution_count": 129,
     "metadata": {},
     "output_type": "execute_result"
    }
   ],
   "source": [
    "geyser.denger.value_counts()"
   ]
  },
  {
   "cell_type": "code",
   "execution_count": 124,
   "id": "62702f44-064a-4f61-a1fa-9747943956bc",
   "metadata": {},
   "outputs": [
    {
     "data": {
      "text/plain": [
       "Index(['hight risk', 'low risk'], dtype='object', name='denger')"
      ]
     },
     "execution_count": 124,
     "metadata": {},
     "output_type": "execute_result"
    }
   ],
   "source": [
    "geyser.denger.value_counts().index"
   ]
  },
  {
   "cell_type": "code",
   "execution_count": 25,
   "id": "8a66b48c-3317-4479-a9e4-12d3202b56fc",
   "metadata": {},
   "outputs": [
    {
     "data": {
      "image/png": "[encoded data removed]",
      "text/plain": [
       "<Figure size 640x480 with 1 Axes>"
      ]
     },
     "metadata": {},
     "output_type": "display_data"
    }
   ],
   "source": [
    "explode = [0.1, 0] # pie grafik\n",
    "plt.pie(geyser.denger.value_counts(), labels = geyser.denger.value_counts().index , startangle = 0 , explode = explode , autopct = \"%1.0f%%\", shadow = True)\n",
    "plt.title(\"Risk\")\n",
    "plt.show()"
   ]
  },
  {
   "cell_type": "markdown",
   "id": "f96f01b2-3b7f-4bdf-985e-1901225d129e",
   "metadata": {},
   "source": [
    "# Seaborn Grafik"
   ]
  },
  {
   "cell_type": "code",
   "execution_count": 26,
   "id": "4df67432-fd67-4526-ae35-5426e18fb752",
   "metadata": {},
   "outputs": [
    {
     "data": {
      "image/png": "[encoded data removed]",
      "text/plain": [
       "<Figure size 640x480 with 1 Axes>"
      ]
     },
     "metadata": {},
     "output_type": "display_data"
    }
   ],
   "source": [
    "sns.regplot(x=\"duration\", y=\"waiting\", data=geyser, ci=None, line_kws={\"color\": \"red\"})\n",
    "plt.title(\"Duration vs Waiting with Regression Line\")\n",
    "plt.show()"
   ]
  },
  {
   "cell_type": "code",
   "execution_count": null,
   "id": "21ab60e8-86bb-4a72-b490-44fb2c7e2114",
   "metadata": {},
   "outputs": [],
   "source": []
  },
  {
   "cell_type": "code",
   "execution_count": null,
   "id": "10b4a437-14d6-4b87-a061-cb45fd3a0b56",
   "metadata": {},
   "outputs": [],
   "source": []
  },
  {
   "cell_type": "code",
   "execution_count": null,
   "id": "75894593-cbda-4b63-b47b-100358d89c6e",
   "metadata": {},
   "outputs": [],
   "source": []
  },
  {
   "cell_type": "code",
   "execution_count": null,
   "id": "85482f20-cd14-421e-9ec0-5d79ed08955a",
   "metadata": {},
   "outputs": [],
   "source": []
  },
  {
   "cell_type": "code",
   "execution_count": null,
   "id": "a177cd44-52ad-442f-8ba8-626c4546fa3c",
   "metadata": {},
   "outputs": [],
   "source": []
  },
  {
   "cell_type": "code",
   "execution_count": null,
   "id": "595e651e-3946-4f53-be06-c29ef885b277",
   "metadata": {},
   "outputs": [],
   "source": []
  },
  {
   "cell_type": "code",
   "execution_count": null,
   "id": "9cbca9e2-32f8-4653-9c7d-b414c34420f0",
   "metadata": {},
   "outputs": [],
   "source": []
  }
 ],
 "metadata": {
  "kernelspec": {
   "display_name": "Python 3 (ipykernel)",
   "language": "python",
   "name": "python3"
  },
  "language_info": {
   "codemirror_mode": {
    "name": "ipython",
    "version": 3
   },
   "file_extension": ".py",
   "mimetype": "text/x-python",
   "name": "python",
   "nbconvert_exporter": "python",
   "pygments_lexer": "ipython3",
   "version": "3.13.5"
  }
 },
 "nbformat": 4,
 "nbformat_minor": 5
}
