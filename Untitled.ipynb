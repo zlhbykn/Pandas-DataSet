{
 "cells": [
  {
   "cell_type": "code",
   "execution_count": null,
   "id": "7fe83730-3a17-4a64-b601-2d71c7957851",
   "metadata": {},
   "outputs": [],
   "source": [
    "🟢 Basit Seviye (1–5)\n",
    "\n",
    "Veri setinin ilk 10 satırını ekrana yazdır.\n",
    "\n",
    "Veri setinde kaç farklı diet türü var?\n",
    "\n",
    "kind sütunundaki egzersiz türlerini ve tekrar sayılarını göster.\n",
    "\n",
    "time sütunundaki eşsiz değerleri listele.\n",
    "\n",
    "id sütununda toplam kaç farklı kişi var?\n",
    "\n",
    "🟡 Orta Seviye (6–10)\n",
    "\n",
    "kind = \"running\" olan satırları filtrele.\n",
    "\n",
    "time = \"30 min\" olan kişilerin ortalama nabzını bul.\n",
    "\n",
    "Her bir diet için ortalama nabız (pulse) değerlerini karşılaştır.\n",
    "\n",
    "id = 5 olan kişinin tüm ölçümlerini listele.\n",
    "\n",
    "walking yapan kişilerin en yüksek nabzını bul.\n",
    "\n",
    "🔴 Zor Seviye (11–15)\n",
    "\n",
    "Her bir egzersiz türü (kind) için 30. dakikadaki ortalama nabız değerini hesapla.\n",
    "\n",
    "diet ve kind kombinasyonuna göre ortalama nabız değerlerini tablo şeklinde göster (pivot_table veya groupby ile).\n",
    "\n",
    "Her bir kişinin (id) en yüksek nabzını bul ve kişiye göre sırala.\n",
    "\n",
    "rest → walking → running sırasına göre nabız değişimini her kişi için gözlemle (farkları bul).\n",
    "\n",
    "Nabzı 100’den yüksek olan satırları seç ve hangi diyet grubunda daha çok olduğunu incele.\n",
    "\n",
    "👉 Bu soruları çözdükçe Pandas’ın:\n",
    "\n",
    "filtreleme ([], .loc, .query)\n",
    "\n",
    "gruplama (groupby)\n",
    "\n",
    "özetleme (mean, max, count)\n",
    "\n",
    "pivot_table\n",
    "\n",
    "unique / nunique\n",
    "\n",
    "sort_values\n",
    "\n",
    "gibi fonksiyonlarını öğrenmiş olacaksın."
   ]
  }
 ],
 "metadata": {
  "kernelspec": {
   "display_name": "Python 3 (ipykernel)",
   "language": "python",
   "name": "python3"
  },
  "language_info": {
   "codemirror_mode": {
    "name": "ipython",
    "version": 3
   },
   "file_extension": ".py",
   "mimetype": "text/x-python",
   "name": "python",
   "nbconvert_exporter": "python",
   "pygments_lexer": "ipython3",
   "version": "3.13.5"
  }
 },
 "nbformat": 4,
 "nbformat_minor": 5
}
