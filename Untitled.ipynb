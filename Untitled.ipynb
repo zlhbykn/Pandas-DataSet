{
 "cells": [
  {
   "cell_type": "markdown",
   "id": "7f31bb1c-2225-4bbe-922f-a85eb08a563b",
   "metadata": {},
   "source": [
    "🔹 Basit Seviye (Kolay Başlangıç)\n",
    "\n",
    "Veri setinde toplam kaç gezegen kaydı vardır?\n",
    "\n",
    "En çok kullanılan keşif yöntemi (method) hangisidir?\n",
    "\n",
    "Kaç farklı keşif yöntemi vardır?\n",
    "\n",
    "En erken ve en geç keşif yılı nedir?\n",
    "\n",
    "mass sütununda kaç tane eksik değer (NaN) vardır?\n",
    "\n",
    "🔹 Orta Seviye (İstatistiksel İnceleme)\n",
    "\n",
    "Yıllara göre keşif sayısının değişimini bir çizgi grafiğiyle göster.\n",
    "\n",
    "orbital_period sütununun dağılımını histogram ile görselleştir.\n",
    "\n",
    "En büyük ortalama kütleye sahip keşif yöntemi hangisidir?\n",
    "\n",
    "distance sütununu keşif yöntemine göre kutu grafiği (boxplot) ile karşılaştır.\n",
    "\n",
    "Bir yıldızda keşfedilen gezegen sayısı (number) ile keşif yılı arasındaki ilişkiyi incele.\n",
    "\n",
    "🔹 Zor Seviye (Derin Analiz)\n",
    "\n",
    "Yıllara göre keşif yöntemlerinin kullanımındaki değişimi (stacked bar plot) görselleştir.\n",
    "\n",
    "mass ve orbital_period arasındaki ilişkiyi scatter plot ile incele. Hangi keşif yöntemi bu ilişkide baskın görünüyor?\n",
    "\n",
    "2000 yılı öncesi ve sonrası keşiflerde ortalama gezegen kütlesi nasıl değişmiştir?\n",
    "\n",
    "Dünya’ya en yakın ve en uzak 10 gezegenin keşif yöntemleri nelerdir?\n",
    "\n",
    "Eksik değerler (mass veya distance) veri analizini nasıl etkiler? Eksik değerleri doldurma (imputation) veya filtreleme yöntemlerinden birini uygulayıp sonuçları karşılaştır."
   ]
  },
  {
   "cell_type": "markdown",
   "id": "e3b7156a-e784-460c-a90d-a6c4adb321b5",
   "metadata": {},
   "source": []
  }
 ],
 "metadata": {
  "kernelspec": {
   "display_name": "Python 3 (ipykernel)",
   "language": "python",
   "name": "python3"
  },
  "language_info": {
   "codemirror_mode": {
    "name": "ipython",
    "version": 3
   },
   "file_extension": ".py",
   "mimetype": "text/x-python",
   "name": "python",
   "nbconvert_exporter": "python",
   "pygments_lexer": "ipython3",
   "version": "3.13.5"
  }
 },
 "nbformat": 4,
 "nbformat_minor": 5
}
