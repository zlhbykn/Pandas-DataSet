{
 "cells": [
  {
   "cell_type": "code",
   "execution_count": 2,
   "id": "9976c2f8-fb92-4ce8-9fc8-1b8e8d4a8fba",
   "metadata": {},
   "outputs": [],
   "source": [
    "import numpy as np\n",
    "import pandas as pd\n",
    "\n",
    "import matplotlib.pyplot as plt # matplotlib içerisindeki pyplot modülünü plt olarak import ettik\n",
    "import matplotlib as mpl # sadece matplotlibi import etmek etmek için kullanırız\n",
    "\n",
    "import seaborn as sns\n",
    "\n",
    "import warnings\n",
    "warnings.filterwarnings('ignore')"
   ]
  },
  {
   "cell_type": "markdown",
   "id": "f97161ad-6c33-42a0-b9c5-a54692453939",
   "metadata": {},
   "source": [
    "# Exercise DataSet\n",
    "\n",
    "Pandas’ın exercise dataset’i, genelde kişilerin spor yapma aktivitelerini içeren küçük ve basit bir örnek veri setidir. Öğrenme amaçlı (özellikle pandas ile veri manipülasyonu ve analiz pratikleri için) kullanılır.\n",
    "\n",
    "Veri setinde şu sütunlar var:\n",
    "\n",
    "***Unnamed: 0*** → Otomatik oluşturulmuş index sütunu (gereksiz, drop edebilirsin).\n",
    "\n",
    "***id*** → Katılımcı numarası (1, 2, 3 …).\n",
    "\n",
    "***diet*** → Katılımcının diyet tipi (ör: low fat, no fat).\n",
    "\n",
    "***pulse*** → Nabız (egzersiz sırasında ölçülen).\n",
    "\n",
    "***time*** → Egzersiz süresi (1 min, 15 min, 30 min).\n",
    "\n",
    "***kind*** → Egzersiz türü (rest, walking, running)."
   ]
  },
  {
   "cell_type": "code",
   "execution_count": 3,
   "id": "657a3c50-f97c-4899-9097-7c852abed32c",
   "metadata": {},
   "outputs": [
    {
     "data": {
      "text/plain": [
       "['anagrams',\n",
       " 'anscombe',\n",
       " 'attention',\n",
       " 'brain_networks',\n",
       " 'car_crashes',\n",
       " 'diamonds',\n",
       " 'dots',\n",
       " 'dowjones',\n",
       " 'exercise',\n",
       " 'flights',\n",
       " 'fmri',\n",
       " 'geyser',\n",
       " 'glue',\n",
       " 'healthexp',\n",
       " 'iris',\n",
       " 'mpg',\n",
       " 'penguins',\n",
       " 'planets',\n",
       " 'seaice',\n",
       " 'taxis',\n",
       " 'tips',\n",
       " 'titanic']"
      ]
     },
     "execution_count": 3,
     "metadata": {},
     "output_type": "execute_result"
    }
   ],
   "source": [
    "sns.get_dataset_names()"
   ]
  },
  {
   "cell_type": "code",
   "execution_count": 4,
   "id": "cf32b430-dcb4-4d0e-9017-7b60101b0490",
   "metadata": {},
   "outputs": [
    {
     "data": {
      "text/html": [
       "<div>\n",
       "<style scoped>\n",
       "    .dataframe tbody tr th:only-of-type {\n",
       "        vertical-align: middle;\n",
       "    }\n",
       "\n",
       "    .dataframe tbody tr th {\n",
       "        vertical-align: top;\n",
       "    }\n",
       "\n",
       "    .dataframe thead th {\n",
       "        text-align: right;\n",
       "    }\n",
       "</style>\n",
       "<table border=\"1\" class=\"dataframe\">\n",
       "  <thead>\n",
       "    <tr style=\"text-align: right;\">\n",
       "      <th></th>\n",
       "      <th>Unnamed: 0</th>\n",
       "      <th>id</th>\n",
       "      <th>diet</th>\n",
       "      <th>pulse</th>\n",
       "      <th>time</th>\n",
       "      <th>kind</th>\n",
       "    </tr>\n",
       "  </thead>\n",
       "  <tbody>\n",
       "    <tr>\n",
       "      <th>0</th>\n",
       "      <td>0</td>\n",
       "      <td>1</td>\n",
       "      <td>low fat</td>\n",
       "      <td>85</td>\n",
       "      <td>1 min</td>\n",
       "      <td>rest</td>\n",
       "    </tr>\n",
       "    <tr>\n",
       "      <th>1</th>\n",
       "      <td>1</td>\n",
       "      <td>1</td>\n",
       "      <td>low fat</td>\n",
       "      <td>85</td>\n",
       "      <td>15 min</td>\n",
       "      <td>rest</td>\n",
       "    </tr>\n",
       "    <tr>\n",
       "      <th>2</th>\n",
       "      <td>2</td>\n",
       "      <td>1</td>\n",
       "      <td>low fat</td>\n",
       "      <td>88</td>\n",
       "      <td>30 min</td>\n",
       "      <td>rest</td>\n",
       "    </tr>\n",
       "    <tr>\n",
       "      <th>3</th>\n",
       "      <td>3</td>\n",
       "      <td>2</td>\n",
       "      <td>low fat</td>\n",
       "      <td>90</td>\n",
       "      <td>1 min</td>\n",
       "      <td>rest</td>\n",
       "    </tr>\n",
       "    <tr>\n",
       "      <th>4</th>\n",
       "      <td>4</td>\n",
       "      <td>2</td>\n",
       "      <td>low fat</td>\n",
       "      <td>92</td>\n",
       "      <td>15 min</td>\n",
       "      <td>rest</td>\n",
       "    </tr>\n",
       "    <tr>\n",
       "      <th>...</th>\n",
       "      <td>...</td>\n",
       "      <td>...</td>\n",
       "      <td>...</td>\n",
       "      <td>...</td>\n",
       "      <td>...</td>\n",
       "      <td>...</td>\n",
       "    </tr>\n",
       "    <tr>\n",
       "      <th>85</th>\n",
       "      <td>85</td>\n",
       "      <td>29</td>\n",
       "      <td>no fat</td>\n",
       "      <td>135</td>\n",
       "      <td>15 min</td>\n",
       "      <td>running</td>\n",
       "    </tr>\n",
       "    <tr>\n",
       "      <th>86</th>\n",
       "      <td>86</td>\n",
       "      <td>29</td>\n",
       "      <td>no fat</td>\n",
       "      <td>130</td>\n",
       "      <td>30 min</td>\n",
       "      <td>running</td>\n",
       "    </tr>\n",
       "    <tr>\n",
       "      <th>87</th>\n",
       "      <td>87</td>\n",
       "      <td>30</td>\n",
       "      <td>no fat</td>\n",
       "      <td>99</td>\n",
       "      <td>1 min</td>\n",
       "      <td>running</td>\n",
       "    </tr>\n",
       "    <tr>\n",
       "      <th>88</th>\n",
       "      <td>88</td>\n",
       "      <td>30</td>\n",
       "      <td>no fat</td>\n",
       "      <td>111</td>\n",
       "      <td>15 min</td>\n",
       "      <td>running</td>\n",
       "    </tr>\n",
       "    <tr>\n",
       "      <th>89</th>\n",
       "      <td>89</td>\n",
       "      <td>30</td>\n",
       "      <td>no fat</td>\n",
       "      <td>150</td>\n",
       "      <td>30 min</td>\n",
       "      <td>running</td>\n",
       "    </tr>\n",
       "  </tbody>\n",
       "</table>\n",
       "<p>90 rows × 6 columns</p>\n",
       "</div>"
      ],
      "text/plain": [
       "    Unnamed: 0  id     diet  pulse    time     kind\n",
       "0            0   1  low fat     85   1 min     rest\n",
       "1            1   1  low fat     85  15 min     rest\n",
       "2            2   1  low fat     88  30 min     rest\n",
       "3            3   2  low fat     90   1 min     rest\n",
       "4            4   2  low fat     92  15 min     rest\n",
       "..         ...  ..      ...    ...     ...      ...\n",
       "85          85  29   no fat    135  15 min  running\n",
       "86          86  29   no fat    130  30 min  running\n",
       "87          87  30   no fat     99   1 min  running\n",
       "88          88  30   no fat    111  15 min  running\n",
       "89          89  30   no fat    150  30 min  running\n",
       "\n",
       "[90 rows x 6 columns]"
      ]
     },
     "execution_count": 4,
     "metadata": {},
     "output_type": "execute_result"
    }
   ],
   "source": [
    "exercise = sns.load_dataset('exercise')\n",
    "exercise # exercise data setini çağırdı"
   ]
  },
  {
   "cell_type": "code",
   "execution_count": 5,
   "id": "39f9ec8a-c3cb-4f1f-ac18-530afac55dd6",
   "metadata": {},
   "outputs": [
    {
     "data": {
      "text/html": [
       "<div>\n",
       "<style scoped>\n",
       "    .dataframe tbody tr th:only-of-type {\n",
       "        vertical-align: middle;\n",
       "    }\n",
       "\n",
       "    .dataframe tbody tr th {\n",
       "        vertical-align: top;\n",
       "    }\n",
       "\n",
       "    .dataframe thead th {\n",
       "        text-align: right;\n",
       "    }\n",
       "</style>\n",
       "<table border=\"1\" class=\"dataframe\">\n",
       "  <thead>\n",
       "    <tr style=\"text-align: right;\">\n",
       "      <th></th>\n",
       "      <th>id</th>\n",
       "      <th>diet</th>\n",
       "      <th>pulse</th>\n",
       "      <th>time</th>\n",
       "      <th>kind</th>\n",
       "    </tr>\n",
       "  </thead>\n",
       "  <tbody>\n",
       "    <tr>\n",
       "      <th>0</th>\n",
       "      <td>1</td>\n",
       "      <td>low fat</td>\n",
       "      <td>85</td>\n",
       "      <td>1 min</td>\n",
       "      <td>rest</td>\n",
       "    </tr>\n",
       "    <tr>\n",
       "      <th>1</th>\n",
       "      <td>1</td>\n",
       "      <td>low fat</td>\n",
       "      <td>85</td>\n",
       "      <td>15 min</td>\n",
       "      <td>rest</td>\n",
       "    </tr>\n",
       "    <tr>\n",
       "      <th>2</th>\n",
       "      <td>1</td>\n",
       "      <td>low fat</td>\n",
       "      <td>88</td>\n",
       "      <td>30 min</td>\n",
       "      <td>rest</td>\n",
       "    </tr>\n",
       "    <tr>\n",
       "      <th>3</th>\n",
       "      <td>2</td>\n",
       "      <td>low fat</td>\n",
       "      <td>90</td>\n",
       "      <td>1 min</td>\n",
       "      <td>rest</td>\n",
       "    </tr>\n",
       "    <tr>\n",
       "      <th>4</th>\n",
       "      <td>2</td>\n",
       "      <td>low fat</td>\n",
       "      <td>92</td>\n",
       "      <td>15 min</td>\n",
       "      <td>rest</td>\n",
       "    </tr>\n",
       "    <tr>\n",
       "      <th>...</th>\n",
       "      <td>...</td>\n",
       "      <td>...</td>\n",
       "      <td>...</td>\n",
       "      <td>...</td>\n",
       "      <td>...</td>\n",
       "    </tr>\n",
       "    <tr>\n",
       "      <th>85</th>\n",
       "      <td>29</td>\n",
       "      <td>no fat</td>\n",
       "      <td>135</td>\n",
       "      <td>15 min</td>\n",
       "      <td>running</td>\n",
       "    </tr>\n",
       "    <tr>\n",
       "      <th>86</th>\n",
       "      <td>29</td>\n",
       "      <td>no fat</td>\n",
       "      <td>130</td>\n",
       "      <td>30 min</td>\n",
       "      <td>running</td>\n",
       "    </tr>\n",
       "    <tr>\n",
       "      <th>87</th>\n",
       "      <td>30</td>\n",
       "      <td>no fat</td>\n",
       "      <td>99</td>\n",
       "      <td>1 min</td>\n",
       "      <td>running</td>\n",
       "    </tr>\n",
       "    <tr>\n",
       "      <th>88</th>\n",
       "      <td>30</td>\n",
       "      <td>no fat</td>\n",
       "      <td>111</td>\n",
       "      <td>15 min</td>\n",
       "      <td>running</td>\n",
       "    </tr>\n",
       "    <tr>\n",
       "      <th>89</th>\n",
       "      <td>30</td>\n",
       "      <td>no fat</td>\n",
       "      <td>150</td>\n",
       "      <td>30 min</td>\n",
       "      <td>running</td>\n",
       "    </tr>\n",
       "  </tbody>\n",
       "</table>\n",
       "<p>90 rows × 5 columns</p>\n",
       "</div>"
      ],
      "text/plain": [
       "    id     diet  pulse    time     kind\n",
       "0    1  low fat     85   1 min     rest\n",
       "1    1  low fat     85  15 min     rest\n",
       "2    1  low fat     88  30 min     rest\n",
       "3    2  low fat     90   1 min     rest\n",
       "4    2  low fat     92  15 min     rest\n",
       "..  ..      ...    ...     ...      ...\n",
       "85  29   no fat    135  15 min  running\n",
       "86  29   no fat    130  30 min  running\n",
       "87  30   no fat     99   1 min  running\n",
       "88  30   no fat    111  15 min  running\n",
       "89  30   no fat    150  30 min  running\n",
       "\n",
       "[90 rows x 5 columns]"
      ]
     },
     "execution_count": 5,
     "metadata": {},
     "output_type": "execute_result"
    }
   ],
   "source": [
    "exercise.drop('Unnamed: 0', axis = 1, inplace = True)\n",
    "exercise # unnamed adındaki eski index sütununu drop ile sildik"
   ]
  },
  {
   "cell_type": "code",
   "execution_count": 6,
   "id": "a8e99436-918a-4fe0-b197-b9c3672cb043",
   "metadata": {},
   "outputs": [
    {
     "data": {
      "text/html": [
       "<div>\n",
       "<style scoped>\n",
       "    .dataframe tbody tr th:only-of-type {\n",
       "        vertical-align: middle;\n",
       "    }\n",
       "\n",
       "    .dataframe tbody tr th {\n",
       "        vertical-align: top;\n",
       "    }\n",
       "\n",
       "    .dataframe thead th {\n",
       "        text-align: right;\n",
       "    }\n",
       "</style>\n",
       "<table border=\"1\" class=\"dataframe\">\n",
       "  <thead>\n",
       "    <tr style=\"text-align: right;\">\n",
       "      <th></th>\n",
       "      <th>id</th>\n",
       "      <th>diet</th>\n",
       "      <th>pulse</th>\n",
       "      <th>time</th>\n",
       "      <th>kind</th>\n",
       "    </tr>\n",
       "  </thead>\n",
       "  <tbody>\n",
       "    <tr>\n",
       "      <th>0</th>\n",
       "      <td>1</td>\n",
       "      <td>low fat</td>\n",
       "      <td>85</td>\n",
       "      <td>1 min</td>\n",
       "      <td>rest</td>\n",
       "    </tr>\n",
       "    <tr>\n",
       "      <th>1</th>\n",
       "      <td>1</td>\n",
       "      <td>low fat</td>\n",
       "      <td>85</td>\n",
       "      <td>15 min</td>\n",
       "      <td>rest</td>\n",
       "    </tr>\n",
       "    <tr>\n",
       "      <th>2</th>\n",
       "      <td>1</td>\n",
       "      <td>low fat</td>\n",
       "      <td>88</td>\n",
       "      <td>30 min</td>\n",
       "      <td>rest</td>\n",
       "    </tr>\n",
       "    <tr>\n",
       "      <th>3</th>\n",
       "      <td>2</td>\n",
       "      <td>low fat</td>\n",
       "      <td>90</td>\n",
       "      <td>1 min</td>\n",
       "      <td>rest</td>\n",
       "    </tr>\n",
       "    <tr>\n",
       "      <th>4</th>\n",
       "      <td>2</td>\n",
       "      <td>low fat</td>\n",
       "      <td>92</td>\n",
       "      <td>15 min</td>\n",
       "      <td>rest</td>\n",
       "    </tr>\n",
       "  </tbody>\n",
       "</table>\n",
       "</div>"
      ],
      "text/plain": [
       "   id     diet  pulse    time  kind\n",
       "0   1  low fat     85   1 min  rest\n",
       "1   1  low fat     85  15 min  rest\n",
       "2   1  low fat     88  30 min  rest\n",
       "3   2  low fat     90   1 min  rest\n",
       "4   2  low fat     92  15 min  rest"
      ]
     },
     "execution_count": 6,
     "metadata": {},
     "output_type": "execute_result"
    }
   ],
   "source": [
    "exercise.head() # ilk 5 satırı çağırdık"
   ]
  },
  {
   "cell_type": "code",
   "execution_count": 7,
   "id": "d4e9b2d7-4d0e-434b-8d78-891ce74d3f1f",
   "metadata": {},
   "outputs": [
    {
     "data": {
      "text/html": [
       "<div>\n",
       "<style scoped>\n",
       "    .dataframe tbody tr th:only-of-type {\n",
       "        vertical-align: middle;\n",
       "    }\n",
       "\n",
       "    .dataframe tbody tr th {\n",
       "        vertical-align: top;\n",
       "    }\n",
       "\n",
       "    .dataframe thead th {\n",
       "        text-align: right;\n",
       "    }\n",
       "</style>\n",
       "<table border=\"1\" class=\"dataframe\">\n",
       "  <thead>\n",
       "    <tr style=\"text-align: right;\">\n",
       "      <th></th>\n",
       "      <th>id</th>\n",
       "      <th>diet</th>\n",
       "      <th>pulse</th>\n",
       "      <th>time</th>\n",
       "      <th>kind</th>\n",
       "    </tr>\n",
       "  </thead>\n",
       "  <tbody>\n",
       "    <tr>\n",
       "      <th>85</th>\n",
       "      <td>29</td>\n",
       "      <td>no fat</td>\n",
       "      <td>135</td>\n",
       "      <td>15 min</td>\n",
       "      <td>running</td>\n",
       "    </tr>\n",
       "    <tr>\n",
       "      <th>86</th>\n",
       "      <td>29</td>\n",
       "      <td>no fat</td>\n",
       "      <td>130</td>\n",
       "      <td>30 min</td>\n",
       "      <td>running</td>\n",
       "    </tr>\n",
       "    <tr>\n",
       "      <th>87</th>\n",
       "      <td>30</td>\n",
       "      <td>no fat</td>\n",
       "      <td>99</td>\n",
       "      <td>1 min</td>\n",
       "      <td>running</td>\n",
       "    </tr>\n",
       "    <tr>\n",
       "      <th>88</th>\n",
       "      <td>30</td>\n",
       "      <td>no fat</td>\n",
       "      <td>111</td>\n",
       "      <td>15 min</td>\n",
       "      <td>running</td>\n",
       "    </tr>\n",
       "    <tr>\n",
       "      <th>89</th>\n",
       "      <td>30</td>\n",
       "      <td>no fat</td>\n",
       "      <td>150</td>\n",
       "      <td>30 min</td>\n",
       "      <td>running</td>\n",
       "    </tr>\n",
       "  </tbody>\n",
       "</table>\n",
       "</div>"
      ],
      "text/plain": [
       "    id    diet  pulse    time     kind\n",
       "85  29  no fat    135  15 min  running\n",
       "86  29  no fat    130  30 min  running\n",
       "87  30  no fat     99   1 min  running\n",
       "88  30  no fat    111  15 min  running\n",
       "89  30  no fat    150  30 min  running"
      ]
     },
     "execution_count": 7,
     "metadata": {},
     "output_type": "execute_result"
    }
   ],
   "source": [
    "exercise.tail() # son 5 satırı çağırdık"
   ]
  },
  {
   "cell_type": "code",
   "execution_count": 8,
   "id": "81a9448c-385f-4c83-9e44-463b131225c2",
   "metadata": {},
   "outputs": [
    {
     "data": {
      "text/html": [
       "<div>\n",
       "<style scoped>\n",
       "    .dataframe tbody tr th:only-of-type {\n",
       "        vertical-align: middle;\n",
       "    }\n",
       "\n",
       "    .dataframe tbody tr th {\n",
       "        vertical-align: top;\n",
       "    }\n",
       "\n",
       "    .dataframe thead th {\n",
       "        text-align: right;\n",
       "    }\n",
       "</style>\n",
       "<table border=\"1\" class=\"dataframe\">\n",
       "  <thead>\n",
       "    <tr style=\"text-align: right;\">\n",
       "      <th></th>\n",
       "      <th>id</th>\n",
       "      <th>diet</th>\n",
       "      <th>pulse</th>\n",
       "      <th>time</th>\n",
       "      <th>kind</th>\n",
       "    </tr>\n",
       "  </thead>\n",
       "  <tbody>\n",
       "    <tr>\n",
       "      <th>42</th>\n",
       "      <td>15</td>\n",
       "      <td>low fat</td>\n",
       "      <td>89</td>\n",
       "      <td>1 min</td>\n",
       "      <td>walking</td>\n",
       "    </tr>\n",
       "    <tr>\n",
       "      <th>56</th>\n",
       "      <td>19</td>\n",
       "      <td>no fat</td>\n",
       "      <td>100</td>\n",
       "      <td>30 min</td>\n",
       "      <td>walking</td>\n",
       "    </tr>\n",
       "    <tr>\n",
       "      <th>7</th>\n",
       "      <td>3</td>\n",
       "      <td>low fat</td>\n",
       "      <td>97</td>\n",
       "      <td>15 min</td>\n",
       "      <td>rest</td>\n",
       "    </tr>\n",
       "  </tbody>\n",
       "</table>\n",
       "</div>"
      ],
      "text/plain": [
       "    id     diet  pulse    time     kind\n",
       "42  15  low fat     89   1 min  walking\n",
       "56  19   no fat    100  30 min  walking\n",
       "7    3  low fat     97  15 min     rest"
      ]
     },
     "execution_count": 8,
     "metadata": {},
     "output_type": "execute_result"
    }
   ],
   "source": [
    "exercise.sample(3) # rastgele 3 satırı çağırdık"
   ]
  },
  {
   "cell_type": "code",
   "execution_count": 9,
   "id": "f7f45da0-e5f2-49b8-9ebd-bf6675f10700",
   "metadata": {},
   "outputs": [
    {
     "data": {
      "text/plain": [
       "(90, 5)"
      ]
     },
     "execution_count": 9,
     "metadata": {},
     "output_type": "execute_result"
    }
   ],
   "source": [
    "exercise.shape # satır sütun sayısına baktık"
   ]
  },
  {
   "cell_type": "code",
   "execution_count": 10,
   "id": "1d4587d0-287c-4efa-bb48-73cbe47cf901",
   "metadata": {},
   "outputs": [
    {
     "data": {
      "text/plain": [
       "2"
      ]
     },
     "execution_count": 10,
     "metadata": {},
     "output_type": "execute_result"
    }
   ],
   "source": [
    "exercise.ndim # boyutuna baktık"
   ]
  },
  {
   "cell_type": "code",
   "execution_count": 11,
   "id": "c54c4007-a24c-495d-8a41-4a949a9c7ad8",
   "metadata": {},
   "outputs": [
    {
     "data": {
      "text/plain": [
       "450"
      ]
     },
     "execution_count": 11,
     "metadata": {},
     "output_type": "execute_result"
    }
   ],
   "source": [
    "exercise.size # toplam kaç elemanlı olduğuna baktık"
   ]
  },
  {
   "cell_type": "code",
   "execution_count": 12,
   "id": "25602efe-9c07-4088-aa7a-e9d97885715d",
   "metadata": {},
   "outputs": [
    {
     "name": "stdout",
     "output_type": "stream",
     "text": [
      "<class 'pandas.core.frame.DataFrame'>\n",
      "RangeIndex: 90 entries, 0 to 89\n",
      "Data columns (total 5 columns):\n",
      " #   Column  Non-Null Count  Dtype   \n",
      "---  ------  --------------  -----   \n",
      " 0   id      90 non-null     int64   \n",
      " 1   diet    90 non-null     category\n",
      " 2   pulse   90 non-null     int64   \n",
      " 3   time    90 non-null     category\n",
      " 4   kind    90 non-null     category\n",
      "dtypes: category(3), int64(2)\n",
      "memory usage: 2.2 KB\n"
     ]
    }
   ],
   "source": [
    "exercise.info() # genel değerlendirmesine baktık"
   ]
  },
  {
   "cell_type": "code",
   "execution_count": 13,
   "id": "b24d24de-ff8d-4c00-932a-ce65e7669939",
   "metadata": {},
   "outputs": [
    {
     "data": {
      "text/html": [
       "<div>\n",
       "<style scoped>\n",
       "    .dataframe tbody tr th:only-of-type {\n",
       "        vertical-align: middle;\n",
       "    }\n",
       "\n",
       "    .dataframe tbody tr th {\n",
       "        vertical-align: top;\n",
       "    }\n",
       "\n",
       "    .dataframe thead th {\n",
       "        text-align: right;\n",
       "    }\n",
       "</style>\n",
       "<table border=\"1\" class=\"dataframe\">\n",
       "  <thead>\n",
       "    <tr style=\"text-align: right;\">\n",
       "      <th></th>\n",
       "      <th>id</th>\n",
       "      <th>pulse</th>\n",
       "    </tr>\n",
       "  </thead>\n",
       "  <tbody>\n",
       "    <tr>\n",
       "      <th>count</th>\n",
       "      <td>90.000000</td>\n",
       "      <td>90.000000</td>\n",
       "    </tr>\n",
       "    <tr>\n",
       "      <th>mean</th>\n",
       "      <td>15.500000</td>\n",
       "      <td>99.700000</td>\n",
       "    </tr>\n",
       "    <tr>\n",
       "      <th>std</th>\n",
       "      <td>8.703932</td>\n",
       "      <td>14.858471</td>\n",
       "    </tr>\n",
       "    <tr>\n",
       "      <th>min</th>\n",
       "      <td>1.000000</td>\n",
       "      <td>80.000000</td>\n",
       "    </tr>\n",
       "    <tr>\n",
       "      <th>25%</th>\n",
       "      <td>8.000000</td>\n",
       "      <td>90.250000</td>\n",
       "    </tr>\n",
       "    <tr>\n",
       "      <th>50%</th>\n",
       "      <td>15.500000</td>\n",
       "      <td>96.000000</td>\n",
       "    </tr>\n",
       "    <tr>\n",
       "      <th>75%</th>\n",
       "      <td>23.000000</td>\n",
       "      <td>103.000000</td>\n",
       "    </tr>\n",
       "    <tr>\n",
       "      <th>max</th>\n",
       "      <td>30.000000</td>\n",
       "      <td>150.000000</td>\n",
       "    </tr>\n",
       "  </tbody>\n",
       "</table>\n",
       "</div>"
      ],
      "text/plain": [
       "              id       pulse\n",
       "count  90.000000   90.000000\n",
       "mean   15.500000   99.700000\n",
       "std     8.703932   14.858471\n",
       "min     1.000000   80.000000\n",
       "25%     8.000000   90.250000\n",
       "50%    15.500000   96.000000\n",
       "75%    23.000000  103.000000\n",
       "max    30.000000  150.000000"
      ]
     },
     "execution_count": 13,
     "metadata": {},
     "output_type": "execute_result"
    }
   ],
   "source": [
    "exercise.describe() # özet istatistiksel bilgi aldık"
   ]
  },
  {
   "cell_type": "code",
   "execution_count": 14,
   "id": "ef396690-cd56-4af8-8129-9d3467913b02",
   "metadata": {},
   "outputs": [
    {
     "data": {
      "text/html": [
       "<div>\n",
       "<style scoped>\n",
       "    .dataframe tbody tr th:only-of-type {\n",
       "        vertical-align: middle;\n",
       "    }\n",
       "\n",
       "    .dataframe tbody tr th {\n",
       "        vertical-align: top;\n",
       "    }\n",
       "\n",
       "    .dataframe thead th {\n",
       "        text-align: right;\n",
       "    }\n",
       "</style>\n",
       "<table border=\"1\" class=\"dataframe\">\n",
       "  <thead>\n",
       "    <tr style=\"text-align: right;\">\n",
       "      <th></th>\n",
       "      <th>id</th>\n",
       "      <th>pulse</th>\n",
       "    </tr>\n",
       "  </thead>\n",
       "  <tbody>\n",
       "    <tr>\n",
       "      <th>id</th>\n",
       "      <td>1.000000</td>\n",
       "      <td>0.679012</td>\n",
       "    </tr>\n",
       "    <tr>\n",
       "      <th>pulse</th>\n",
       "      <td>0.679012</td>\n",
       "      <td>1.000000</td>\n",
       "    </tr>\n",
       "  </tbody>\n",
       "</table>\n",
       "</div>"
      ],
      "text/plain": [
       "             id     pulse\n",
       "id     1.000000  0.679012\n",
       "pulse  0.679012  1.000000"
      ]
     },
     "execution_count": 14,
     "metadata": {},
     "output_type": "execute_result"
    }
   ],
   "source": [
    "exercise.corr(numeric_only = True) # corelasyon hesapladık"
   ]
  },
  {
   "cell_type": "code",
   "execution_count": 15,
   "id": "602fe041-54c8-478f-afb7-d3dc3829f25a",
   "metadata": {},
   "outputs": [
    {
     "data": {
      "text/plain": [
       "id          int64\n",
       "diet     category\n",
       "pulse       int64\n",
       "time     category\n",
       "kind     category\n",
       "dtype: object"
      ]
     },
     "execution_count": 15,
     "metadata": {},
     "output_type": "execute_result"
    }
   ],
   "source": [
    "exercise.dtypes # sütunların types bilgisini aldık"
   ]
  },
  {
   "cell_type": "code",
   "execution_count": 16,
   "id": "01474c03-9911-49f7-84b6-b1fe2c6de897",
   "metadata": {},
   "outputs": [
    {
     "data": {
      "text/plain": [
       "Index(['id', 'diet', 'pulse', 'time', 'kind'], dtype='object')"
      ]
     },
     "execution_count": 16,
     "metadata": {},
     "output_type": "execute_result"
    }
   ],
   "source": [
    "exercise.columns # columns isimlerine baktık"
   ]
  },
  {
   "cell_type": "code",
   "execution_count": 17,
   "id": "0928142f-6ee9-4c19-b25f-560394d8f303",
   "metadata": {},
   "outputs": [
    {
     "data": {
      "text/plain": [
       "RangeIndex(start=0, stop=90, step=1)"
      ]
     },
     "execution_count": 17,
     "metadata": {},
     "output_type": "execute_result"
    }
   ],
   "source": [
    "exercise.index # index bilgisi aldık"
   ]
  },
  {
   "cell_type": "code",
   "execution_count": 18,
   "id": "a8af7e19-e9fb-4d6f-a3ae-49d5de5a8838",
   "metadata": {},
   "outputs": [
    {
     "data": {
      "text/plain": [
       "np.float64(99.7)"
      ]
     },
     "execution_count": 18,
     "metadata": {},
     "output_type": "execute_result"
    }
   ],
   "source": [
    "exercise.pulse.mean() # pulse değerlerin ortalamasını aldık"
   ]
  },
  {
   "cell_type": "code",
   "execution_count": 19,
   "id": "65811c23-59ec-4393-a0e0-3c022edd4a8e",
   "metadata": {},
   "outputs": [
    {
     "data": {
      "text/plain": [
       "['rest', 'walking', 'running']\n",
       "Categories (3, object): ['rest', 'walking', 'running']"
      ]
     },
     "execution_count": 19,
     "metadata": {},
     "output_type": "execute_result"
    }
   ],
   "source": [
    "exercise.kind.unique() # kind sütunu unique değerlere baktık"
   ]
  },
  {
   "cell_type": "code",
   "execution_count": 20,
   "id": "74f778c1-0f7d-4f6b-a060-71776baac0ca",
   "metadata": {},
   "outputs": [
    {
     "data": {
      "text/plain": [
       "['low fat', 'no fat']\n",
       "Categories (2, object): ['no fat', 'low fat']"
      ]
     },
     "execution_count": 20,
     "metadata": {},
     "output_type": "execute_result"
    }
   ],
   "source": [
    "exercise.diet.unique() # diet sütunu unique değerlere baktık"
   ]
  },
  {
   "cell_type": "code",
   "execution_count": 21,
   "id": "9268e8e0-101b-4fcf-ba43-b8cd8be0d66a",
   "metadata": {},
   "outputs": [
    {
     "data": {
      "text/plain": [
       "diet\n",
       "no fat     45\n",
       "low fat    45\n",
       "Name: count, dtype: int64"
      ]
     },
     "execution_count": 21,
     "metadata": {},
     "output_type": "execute_result"
    }
   ],
   "source": [
    "exercise.diet.value_counts() # diet sütunu değer sayısı "
   ]
  },
  {
   "cell_type": "code",
   "execution_count": 22,
   "id": "7306e8cc-ad67-48af-a9e1-6cf36653f03e",
   "metadata": {},
   "outputs": [
    {
     "data": {
      "text/plain": [
       "kind\n",
       "rest       30\n",
       "walking    30\n",
       "running    30\n",
       "Name: count, dtype: int64"
      ]
     },
     "execution_count": 22,
     "metadata": {},
     "output_type": "execute_result"
    }
   ],
   "source": [
    "exercise.kind.value_counts() # kind sütunu değer sayısı "
   ]
  },
  {
   "cell_type": "code",
   "execution_count": 23,
   "id": "2d858653-6ff2-49d1-a52d-dc46e87108e7",
   "metadata": {},
   "outputs": [
    {
     "data": {
      "text/html": [
       "<div>\n",
       "<style scoped>\n",
       "    .dataframe tbody tr th:only-of-type {\n",
       "        vertical-align: middle;\n",
       "    }\n",
       "\n",
       "    .dataframe tbody tr th {\n",
       "        vertical-align: top;\n",
       "    }\n",
       "\n",
       "    .dataframe thead th {\n",
       "        text-align: right;\n",
       "    }\n",
       "</style>\n",
       "<table border=\"1\" class=\"dataframe\">\n",
       "  <thead>\n",
       "    <tr style=\"text-align: right;\">\n",
       "      <th></th>\n",
       "      <th>id</th>\n",
       "      <th>diet</th>\n",
       "      <th>pulse</th>\n",
       "      <th>time</th>\n",
       "      <th>kind</th>\n",
       "    </tr>\n",
       "  </thead>\n",
       "  <tbody>\n",
       "    <tr>\n",
       "      <th>56</th>\n",
       "      <td>19</td>\n",
       "      <td>no fat</td>\n",
       "      <td>100</td>\n",
       "      <td>30</td>\n",
       "      <td>walking</td>\n",
       "    </tr>\n",
       "  </tbody>\n",
       "</table>\n",
       "</div>"
      ],
      "text/plain": [
       "    id    diet  pulse  time     kind\n",
       "56  19  no fat    100    30  walking"
      ]
     },
     "execution_count": 23,
     "metadata": {},
     "output_type": "execute_result"
    }
   ],
   "source": [
    "exercise.time = exercise.time.str.strip('min').astype('int')\n",
    "exercise.sample()"
   ]
  },
  {
   "cell_type": "code",
   "execution_count": 24,
   "id": "c28ccc1e-5a2b-49a4-a1b9-4506339da6b3",
   "metadata": {},
   "outputs": [
    {
     "data": {
      "text/plain": [
       "id\n",
       "1     3\n",
       "2     3\n",
       "3     3\n",
       "4     3\n",
       "5     3\n",
       "6     3\n",
       "7     3\n",
       "8     3\n",
       "9     3\n",
       "10    3\n",
       "11    3\n",
       "12    3\n",
       "13    3\n",
       "14    3\n",
       "15    3\n",
       "16    3\n",
       "17    3\n",
       "18    3\n",
       "19    3\n",
       "20    3\n",
       "21    3\n",
       "22    3\n",
       "23    3\n",
       "24    3\n",
       "25    3\n",
       "26    3\n",
       "27    3\n",
       "28    3\n",
       "29    3\n",
       "30    3\n",
       "Name: count, dtype: int64"
      ]
     },
     "execution_count": 24,
     "metadata": {},
     "output_type": "execute_result"
    }
   ],
   "source": [
    "exercise.id.value_counts() # id sütununda kaç kişi kaç kez çalışmış gösterdi"
   ]
  },
  {
   "cell_type": "code",
   "execution_count": 25,
   "id": "0b66e44b-a48d-4778-9339-6846e7ab3a81",
   "metadata": {},
   "outputs": [
    {
     "data": {
      "text/plain": [
       "30"
      ]
     },
     "execution_count": 25,
     "metadata": {},
     "output_type": "execute_result"
    }
   ],
   "source": [
    "exercise.time.max() #  time serisinde süresi en büyük olan değeri buldu"
   ]
  },
  {
   "cell_type": "code",
   "execution_count": 26,
   "id": "6147946a-b077-4ec8-840e-ffcdadff75de",
   "metadata": {},
   "outputs": [
    {
     "data": {
      "text/plain": [
       "0     False\n",
       "1     False\n",
       "2     False\n",
       "3     False\n",
       "4     False\n",
       "      ...  \n",
       "85     True\n",
       "86     True\n",
       "87     True\n",
       "88     True\n",
       "89     True\n",
       "Name: kind, Length: 90, dtype: bool"
      ]
     },
     "execution_count": 26,
     "metadata": {},
     "output_type": "execute_result"
    }
   ],
   "source": [
    "exercise['kind'] == 'running' # egzersiz olarak koşu olanları True/False getirdi"
   ]
  },
  {
   "cell_type": "code",
   "execution_count": 27,
   "id": "b87374be-0a69-400e-a2bd-b4019defae3a",
   "metadata": {},
   "outputs": [
    {
     "data": {
      "text/html": [
       "<div>\n",
       "<style scoped>\n",
       "    .dataframe tbody tr th:only-of-type {\n",
       "        vertical-align: middle;\n",
       "    }\n",
       "\n",
       "    .dataframe tbody tr th {\n",
       "        vertical-align: top;\n",
       "    }\n",
       "\n",
       "    .dataframe thead th {\n",
       "        text-align: right;\n",
       "    }\n",
       "</style>\n",
       "<table border=\"1\" class=\"dataframe\">\n",
       "  <thead>\n",
       "    <tr style=\"text-align: right;\">\n",
       "      <th></th>\n",
       "      <th>id</th>\n",
       "      <th>diet</th>\n",
       "      <th>pulse</th>\n",
       "      <th>time</th>\n",
       "      <th>kind</th>\n",
       "    </tr>\n",
       "  </thead>\n",
       "  <tbody>\n",
       "    <tr>\n",
       "      <th>62</th>\n",
       "      <td>21</td>\n",
       "      <td>low fat</td>\n",
       "      <td>110</td>\n",
       "      <td>30</td>\n",
       "      <td>running</td>\n",
       "    </tr>\n",
       "    <tr>\n",
       "      <th>65</th>\n",
       "      <td>22</td>\n",
       "      <td>low fat</td>\n",
       "      <td>112</td>\n",
       "      <td>30</td>\n",
       "      <td>running</td>\n",
       "    </tr>\n",
       "    <tr>\n",
       "      <th>68</th>\n",
       "      <td>23</td>\n",
       "      <td>low fat</td>\n",
       "      <td>99</td>\n",
       "      <td>30</td>\n",
       "      <td>running</td>\n",
       "    </tr>\n",
       "    <tr>\n",
       "      <th>71</th>\n",
       "      <td>24</td>\n",
       "      <td>low fat</td>\n",
       "      <td>120</td>\n",
       "      <td>30</td>\n",
       "      <td>running</td>\n",
       "    </tr>\n",
       "    <tr>\n",
       "      <th>74</th>\n",
       "      <td>25</td>\n",
       "      <td>low fat</td>\n",
       "      <td>116</td>\n",
       "      <td>30</td>\n",
       "      <td>running</td>\n",
       "    </tr>\n",
       "    <tr>\n",
       "      <th>77</th>\n",
       "      <td>26</td>\n",
       "      <td>no fat</td>\n",
       "      <td>143</td>\n",
       "      <td>30</td>\n",
       "      <td>running</td>\n",
       "    </tr>\n",
       "    <tr>\n",
       "      <th>80</th>\n",
       "      <td>27</td>\n",
       "      <td>no fat</td>\n",
       "      <td>140</td>\n",
       "      <td>30</td>\n",
       "      <td>running</td>\n",
       "    </tr>\n",
       "    <tr>\n",
       "      <th>83</th>\n",
       "      <td>28</td>\n",
       "      <td>no fat</td>\n",
       "      <td>140</td>\n",
       "      <td>30</td>\n",
       "      <td>running</td>\n",
       "    </tr>\n",
       "    <tr>\n",
       "      <th>86</th>\n",
       "      <td>29</td>\n",
       "      <td>no fat</td>\n",
       "      <td>130</td>\n",
       "      <td>30</td>\n",
       "      <td>running</td>\n",
       "    </tr>\n",
       "    <tr>\n",
       "      <th>89</th>\n",
       "      <td>30</td>\n",
       "      <td>no fat</td>\n",
       "      <td>150</td>\n",
       "      <td>30</td>\n",
       "      <td>running</td>\n",
       "    </tr>\n",
       "  </tbody>\n",
       "</table>\n",
       "</div>"
      ],
      "text/plain": [
       "    id     diet  pulse  time     kind\n",
       "62  21  low fat    110    30  running\n",
       "65  22  low fat    112    30  running\n",
       "68  23  low fat     99    30  running\n",
       "71  24  low fat    120    30  running\n",
       "74  25  low fat    116    30  running\n",
       "77  26   no fat    143    30  running\n",
       "80  27   no fat    140    30  running\n",
       "83  28   no fat    140    30  running\n",
       "86  29   no fat    130    30  running\n",
       "89  30   no fat    150    30  running"
      ]
     },
     "execution_count": 27,
     "metadata": {},
     "output_type": "execute_result"
    }
   ],
   "source": [
    "exercise[(exercise.time == 30) & (exercise['kind'] == 'running')] # en uzun süre koşu egzersizi yapanların listesi"
   ]
  },
  {
   "cell_type": "code",
   "execution_count": 28,
   "id": "0105a4e5-9c03-42f7-bfc5-3b5569b9f1fb",
   "metadata": {},
   "outputs": [
    {
     "data": {
      "text/plain": [
       "np.float64(15.333333333333334)"
      ]
     },
     "execution_count": 28,
     "metadata": {},
     "output_type": "execute_result"
    }
   ],
   "source": [
    "exercise[exercise['diet'] == 'no fat']['time'].mean() # no fat diet yapanların ort egzersiz süresi"
   ]
  },
  {
   "cell_type": "code",
   "execution_count": 29,
   "id": "e173d3e5-a04a-421a-a0c9-a3f8d57991a3",
   "metadata": {},
   "outputs": [
    {
     "data": {
      "text/plain": [
       "np.float64(103.44444444444444)"
      ]
     },
     "execution_count": 29,
     "metadata": {},
     "output_type": "execute_result"
    }
   ],
   "source": [
    "exercise[exercise['diet'] == 'no fat']['pulse'].mean() # no fat diet yapanların ort nabız süresi"
   ]
  },
  {
   "cell_type": "code",
   "execution_count": 30,
   "id": "a0e29a51-96bc-46ed-b3bb-7d99a6c9773d",
   "metadata": {},
   "outputs": [
    {
     "data": {
      "text/plain": [
       "np.float64(95.95555555555555)"
      ]
     },
     "execution_count": 30,
     "metadata": {},
     "output_type": "execute_result"
    }
   ],
   "source": [
    "exercise[exercise['diet'] == 'low fat']['pulse'].mean() # low fat diet yapanların ort nabız süresi"
   ]
  },
  {
   "cell_type": "markdown",
   "id": "f824e208-c0cc-4f5f-a2fd-4283d4eb3937",
   "metadata": {},
   "source": [
    "- low fat diet yapanların ortalama nabzı no fat diyet yapanlardan düşük"
   ]
  },
  {
   "cell_type": "code",
   "execution_count": 31,
   "id": "a0f61c1c-f46f-46fd-bfc7-480f3ec0617f",
   "metadata": {},
   "outputs": [
    {
     "data": {
      "text/html": [
       "<div>\n",
       "<style scoped>\n",
       "    .dataframe tbody tr th:only-of-type {\n",
       "        vertical-align: middle;\n",
       "    }\n",
       "\n",
       "    .dataframe tbody tr th {\n",
       "        vertical-align: top;\n",
       "    }\n",
       "\n",
       "    .dataframe thead th {\n",
       "        text-align: right;\n",
       "    }\n",
       "</style>\n",
       "<table border=\"1\" class=\"dataframe\">\n",
       "  <thead>\n",
       "    <tr style=\"text-align: right;\">\n",
       "      <th></th>\n",
       "      <th>id</th>\n",
       "      <th>diet</th>\n",
       "      <th>pulse</th>\n",
       "      <th>time</th>\n",
       "      <th>kind</th>\n",
       "    </tr>\n",
       "  </thead>\n",
       "  <tbody>\n",
       "    <tr>\n",
       "      <th>12</th>\n",
       "      <td>5</td>\n",
       "      <td>low fat</td>\n",
       "      <td>91</td>\n",
       "      <td>1</td>\n",
       "      <td>rest</td>\n",
       "    </tr>\n",
       "    <tr>\n",
       "      <th>13</th>\n",
       "      <td>5</td>\n",
       "      <td>low fat</td>\n",
       "      <td>92</td>\n",
       "      <td>15</td>\n",
       "      <td>rest</td>\n",
       "    </tr>\n",
       "    <tr>\n",
       "      <th>14</th>\n",
       "      <td>5</td>\n",
       "      <td>low fat</td>\n",
       "      <td>91</td>\n",
       "      <td>30</td>\n",
       "      <td>rest</td>\n",
       "    </tr>\n",
       "  </tbody>\n",
       "</table>\n",
       "</div>"
      ],
      "text/plain": [
       "    id     diet  pulse  time  kind\n",
       "12   5  low fat     91     1  rest\n",
       "13   5  low fat     92    15  rest\n",
       "14   5  low fat     91    30  rest"
      ]
     },
     "execution_count": 31,
     "metadata": {},
     "output_type": "execute_result"
    }
   ],
   "source": [
    "exercise[exercise['id'] == 5] # id = 5  olan kişinin tüm egzersizleri"
   ]
  },
  {
   "cell_type": "code",
   "execution_count": 32,
   "id": "46be69ef-06eb-48af-aca3-e68d09f285ed",
   "metadata": {},
   "outputs": [
    {
     "data": {
      "text/plain": [
       "109"
      ]
     },
     "execution_count": 32,
     "metadata": {},
     "output_type": "execute_result"
    }
   ],
   "source": [
    "exercise[exercise['kind'] == 'walking']['pulse'].max() # walking yapanların arasından en yüksek nabzı buldu"
   ]
  },
  {
   "cell_type": "code",
   "execution_count": 33,
   "id": "ec305d70-b80f-40a8-89aa-e5405ded8894",
   "metadata": {},
   "outputs": [
    {
     "data": {
      "text/html": [
       "<div>\n",
       "<style scoped>\n",
       "    .dataframe tbody tr th:only-of-type {\n",
       "        vertical-align: middle;\n",
       "    }\n",
       "\n",
       "    .dataframe tbody tr th {\n",
       "        vertical-align: top;\n",
       "    }\n",
       "\n",
       "    .dataframe thead th {\n",
       "        text-align: right;\n",
       "    }\n",
       "</style>\n",
       "<table border=\"1\" class=\"dataframe\">\n",
       "  <thead>\n",
       "    <tr style=\"text-align: right;\">\n",
       "      <th>kind</th>\n",
       "      <th>rest</th>\n",
       "      <th>walking</th>\n",
       "      <th>running</th>\n",
       "    </tr>\n",
       "    <tr>\n",
       "      <th>diet</th>\n",
       "      <th></th>\n",
       "      <th></th>\n",
       "      <th></th>\n",
       "    </tr>\n",
       "  </thead>\n",
       "  <tbody>\n",
       "    <tr>\n",
       "      <th>no fat</th>\n",
       "      <td>92.333333</td>\n",
       "      <td>96.933333</td>\n",
       "      <td>121.066667</td>\n",
       "    </tr>\n",
       "    <tr>\n",
       "      <th>low fat</th>\n",
       "      <td>89.333333</td>\n",
       "      <td>93.466667</td>\n",
       "      <td>105.066667</td>\n",
       "    </tr>\n",
       "  </tbody>\n",
       "</table>\n",
       "</div>"
      ],
      "text/plain": [
       "kind          rest    walking     running\n",
       "diet                                     \n",
       "no fat   92.333333  96.933333  121.066667\n",
       "low fat  89.333333  93.466667  105.066667"
      ]
     },
     "execution_count": 33,
     "metadata": {},
     "output_type": "execute_result"
    }
   ],
   "source": [
    "exercise.pivot_table(index = 'diet', columns = 'kind', values = 'pulse') # diet ve kind ile ort aldığımız yeni bir tablo oluşturduk"
   ]
  },
  {
   "cell_type": "code",
   "execution_count": 34,
   "id": "83358d06-d31d-4c68-98ca-47da979f1356",
   "metadata": {},
   "outputs": [
    {
     "data": {
      "text/html": [
       "<div>\n",
       "<style scoped>\n",
       "    .dataframe tbody tr th:only-of-type {\n",
       "        vertical-align: middle;\n",
       "    }\n",
       "\n",
       "    .dataframe tbody tr th {\n",
       "        vertical-align: top;\n",
       "    }\n",
       "\n",
       "    .dataframe thead th {\n",
       "        text-align: right;\n",
       "    }\n",
       "</style>\n",
       "<table border=\"1\" class=\"dataframe\">\n",
       "  <thead>\n",
       "    <tr style=\"text-align: right;\">\n",
       "      <th>kind</th>\n",
       "      <th>rest</th>\n",
       "      <th>walking</th>\n",
       "      <th>running</th>\n",
       "    </tr>\n",
       "    <tr>\n",
       "      <th>diet</th>\n",
       "      <th></th>\n",
       "      <th></th>\n",
       "      <th></th>\n",
       "    </tr>\n",
       "  </thead>\n",
       "  <tbody>\n",
       "    <tr>\n",
       "      <th>no fat</th>\n",
       "      <td>100</td>\n",
       "      <td>109</td>\n",
       "      <td>150</td>\n",
       "    </tr>\n",
       "    <tr>\n",
       "      <th>low fat</th>\n",
       "      <td>97</td>\n",
       "      <td>104</td>\n",
       "      <td>132</td>\n",
       "    </tr>\n",
       "  </tbody>\n",
       "</table>\n",
       "</div>"
      ],
      "text/plain": [
       "kind     rest  walking  running\n",
       "diet                           \n",
       "no fat    100      109      150\n",
       "low fat    97      104      132"
      ]
     },
     "execution_count": 34,
     "metadata": {},
     "output_type": "execute_result"
    }
   ],
   "source": [
    "exercise.pivot_table(index = 'diet', columns = 'kind', values = 'pulse', aggfunc = 'max') # diet ve kind ile max değerleri aldığımız yeni bir tablo oluşturduk"
   ]
  },
  {
   "cell_type": "code",
   "execution_count": 35,
   "id": "36f73ba9-ea6e-4ef4-b0e9-71a19e1113fe",
   "metadata": {},
   "outputs": [
    {
     "data": {
      "text/plain": [
       "id\n",
       "4      83\n",
       "6      84\n",
       "11     86\n",
       "1      88\n",
       "16     89\n",
       "7      90\n",
       "5      92\n",
       "2      93\n",
       "13     93\n",
       "8      95\n",
       "15     96\n",
       "3      97\n",
       "9      99\n",
       "10    100\n",
       "14    100\n",
       "19    100\n",
       "18    101\n",
       "12    104\n",
       "20    104\n",
       "23    105\n",
       "17    109\n",
       "21    110\n",
       "22    112\n",
       "25    116\n",
       "24    132\n",
       "29    135\n",
       "28    140\n",
       "27    140\n",
       "26    143\n",
       "30    150\n",
       "Name: pulse, dtype: int64"
      ]
     },
     "execution_count": 35,
     "metadata": {},
     "output_type": "execute_result"
    }
   ],
   "source": [
    "exercise.groupby('id')['pulse'].max().sort_values() # Her bir kişinin (id) en yüksek nabzını buldu ve sıraladı"
   ]
  },
  {
   "cell_type": "code",
   "execution_count": 36,
   "id": "81bbbf84-20d6-4a36-a75d-c4d0765ecc4b",
   "metadata": {},
   "outputs": [
    {
     "data": {
      "text/html": [
       "<div>\n",
       "<style scoped>\n",
       "    .dataframe tbody tr th:only-of-type {\n",
       "        vertical-align: middle;\n",
       "    }\n",
       "\n",
       "    .dataframe tbody tr th {\n",
       "        vertical-align: top;\n",
       "    }\n",
       "\n",
       "    .dataframe thead th {\n",
       "        text-align: right;\n",
       "    }\n",
       "</style>\n",
       "<table border=\"1\" class=\"dataframe\">\n",
       "  <thead>\n",
       "    <tr style=\"text-align: right;\">\n",
       "      <th></th>\n",
       "      <th></th>\n",
       "      <th>&lt;lambda&gt;</th>\n",
       "    </tr>\n",
       "    <tr>\n",
       "      <th>kind</th>\n",
       "      <th>id</th>\n",
       "      <th></th>\n",
       "    </tr>\n",
       "  </thead>\n",
       "  <tbody>\n",
       "    <tr>\n",
       "      <th rowspan=\"5\" valign=\"top\">rest</th>\n",
       "      <th>1</th>\n",
       "      <td>3.0</td>\n",
       "    </tr>\n",
       "    <tr>\n",
       "      <th>2</th>\n",
       "      <td>3.0</td>\n",
       "    </tr>\n",
       "    <tr>\n",
       "      <th>3</th>\n",
       "      <td>3.0</td>\n",
       "    </tr>\n",
       "    <tr>\n",
       "      <th>4</th>\n",
       "      <td>3.0</td>\n",
       "    </tr>\n",
       "    <tr>\n",
       "      <th>5</th>\n",
       "      <td>1.0</td>\n",
       "    </tr>\n",
       "    <tr>\n",
       "      <th>...</th>\n",
       "      <th>...</th>\n",
       "      <td>...</td>\n",
       "    </tr>\n",
       "    <tr>\n",
       "      <th rowspan=\"5\" valign=\"top\">running</th>\n",
       "      <th>26</th>\n",
       "      <td>48.0</td>\n",
       "    </tr>\n",
       "    <tr>\n",
       "      <th>27</th>\n",
       "      <td>40.0</td>\n",
       "    </tr>\n",
       "    <tr>\n",
       "      <th>28</th>\n",
       "      <td>37.0</td>\n",
       "    </tr>\n",
       "    <tr>\n",
       "      <th>29</th>\n",
       "      <td>41.0</td>\n",
       "    </tr>\n",
       "    <tr>\n",
       "      <th>30</th>\n",
       "      <td>51.0</td>\n",
       "    </tr>\n",
       "  </tbody>\n",
       "</table>\n",
       "<p>90 rows × 1 columns</p>\n",
       "</div>"
      ],
      "text/plain": [
       "            <lambda>\n",
       "kind    id          \n",
       "rest    1        3.0\n",
       "        2        3.0\n",
       "        3        3.0\n",
       "        4        3.0\n",
       "        5        1.0\n",
       "...              ...\n",
       "running 26      48.0\n",
       "        27      40.0\n",
       "        28      37.0\n",
       "        29      41.0\n",
       "        30      51.0\n",
       "\n",
       "[90 rows x 1 columns]"
      ]
     },
     "execution_count": 36,
     "metadata": {},
     "output_type": "execute_result"
    }
   ],
   "source": [
    "exercise.groupby(['kind','id'])['pulse'].agg({lambda x: x.max()-x.min()}) # rest → walking → running sırasına göre nabız değişimini her kişi için gözlemledik (farkları bulduk)"
   ]
  },
  {
   "cell_type": "code",
   "execution_count": 37,
   "id": "889b4cc1-042b-4dd4-8357-75cb8b86e8ff",
   "metadata": {},
   "outputs": [
    {
     "data": {
      "text/plain": [
       "diet\n",
       "no fat     17\n",
       "low fat    10\n",
       "Name: count, dtype: int64"
      ]
     },
     "execution_count": 37,
     "metadata": {},
     "output_type": "execute_result"
    }
   ],
   "source": [
    "exercise[exercise['pulse'] > 100]['diet'].value_counts()  # Nabzı 100’den yüksek olan satırları seç ve hangi diyet grubunda daha çok olduğunu inceledi"
   ]
  },
  {
   "cell_type": "code",
   "execution_count": 38,
   "id": "bfd56685-a9b0-4223-83bb-f56f76bb81b5",
   "metadata": {},
   "outputs": [
    {
     "data": {
      "text/html": [
       "<div>\n",
       "<style scoped>\n",
       "    .dataframe tbody tr th:only-of-type {\n",
       "        vertical-align: middle;\n",
       "    }\n",
       "\n",
       "    .dataframe tbody tr th {\n",
       "        vertical-align: top;\n",
       "    }\n",
       "\n",
       "    .dataframe thead th {\n",
       "        text-align: right;\n",
       "    }\n",
       "</style>\n",
       "<table border=\"1\" class=\"dataframe\">\n",
       "  <thead>\n",
       "    <tr style=\"text-align: right;\">\n",
       "      <th></th>\n",
       "      <th>id</th>\n",
       "      <th>diet</th>\n",
       "      <th>pulse</th>\n",
       "      <th>time</th>\n",
       "      <th>kind</th>\n",
       "    </tr>\n",
       "  </thead>\n",
       "  <tbody>\n",
       "    <tr>\n",
       "      <th>0</th>\n",
       "      <td>1</td>\n",
       "      <td>low fat</td>\n",
       "      <td>85</td>\n",
       "      <td>1</td>\n",
       "      <td>rest</td>\n",
       "    </tr>\n",
       "    <tr>\n",
       "      <th>1</th>\n",
       "      <td>1</td>\n",
       "      <td>low fat</td>\n",
       "      <td>85</td>\n",
       "      <td>15</td>\n",
       "      <td>rest</td>\n",
       "    </tr>\n",
       "    <tr>\n",
       "      <th>2</th>\n",
       "      <td>1</td>\n",
       "      <td>low fat</td>\n",
       "      <td>88</td>\n",
       "      <td>30</td>\n",
       "      <td>rest</td>\n",
       "    </tr>\n",
       "    <tr>\n",
       "      <th>3</th>\n",
       "      <td>2</td>\n",
       "      <td>low fat</td>\n",
       "      <td>90</td>\n",
       "      <td>1</td>\n",
       "      <td>rest</td>\n",
       "    </tr>\n",
       "    <tr>\n",
       "      <th>4</th>\n",
       "      <td>2</td>\n",
       "      <td>low fat</td>\n",
       "      <td>92</td>\n",
       "      <td>15</td>\n",
       "      <td>rest</td>\n",
       "    </tr>\n",
       "    <tr>\n",
       "      <th>...</th>\n",
       "      <td>...</td>\n",
       "      <td>...</td>\n",
       "      <td>...</td>\n",
       "      <td>...</td>\n",
       "      <td>...</td>\n",
       "    </tr>\n",
       "    <tr>\n",
       "      <th>85</th>\n",
       "      <td>29</td>\n",
       "      <td>no fat</td>\n",
       "      <td>135</td>\n",
       "      <td>15</td>\n",
       "      <td>running</td>\n",
       "    </tr>\n",
       "    <tr>\n",
       "      <th>86</th>\n",
       "      <td>29</td>\n",
       "      <td>no fat</td>\n",
       "      <td>130</td>\n",
       "      <td>30</td>\n",
       "      <td>running</td>\n",
       "    </tr>\n",
       "    <tr>\n",
       "      <th>87</th>\n",
       "      <td>30</td>\n",
       "      <td>no fat</td>\n",
       "      <td>99</td>\n",
       "      <td>1</td>\n",
       "      <td>running</td>\n",
       "    </tr>\n",
       "    <tr>\n",
       "      <th>88</th>\n",
       "      <td>30</td>\n",
       "      <td>no fat</td>\n",
       "      <td>111</td>\n",
       "      <td>15</td>\n",
       "      <td>running</td>\n",
       "    </tr>\n",
       "    <tr>\n",
       "      <th>89</th>\n",
       "      <td>30</td>\n",
       "      <td>no fat</td>\n",
       "      <td>150</td>\n",
       "      <td>30</td>\n",
       "      <td>running</td>\n",
       "    </tr>\n",
       "  </tbody>\n",
       "</table>\n",
       "<p>90 rows × 5 columns</p>\n",
       "</div>"
      ],
      "text/plain": [
       "    id     diet  pulse  time     kind\n",
       "0    1  low fat     85     1     rest\n",
       "1    1  low fat     85    15     rest\n",
       "2    1  low fat     88    30     rest\n",
       "3    2  low fat     90     1     rest\n",
       "4    2  low fat     92    15     rest\n",
       "..  ..      ...    ...   ...      ...\n",
       "85  29   no fat    135    15  running\n",
       "86  29   no fat    130    30  running\n",
       "87  30   no fat     99     1  running\n",
       "88  30   no fat    111    15  running\n",
       "89  30   no fat    150    30  running\n",
       "\n",
       "[90 rows x 5 columns]"
      ]
     },
     "execution_count": 38,
     "metadata": {},
     "output_type": "execute_result"
    }
   ],
   "source": [
    "exercise"
   ]
  },
  {
   "cell_type": "markdown",
   "id": "47c932a1-dc1b-40d5-ab59-733c294b8019",
   "metadata": {},
   "source": [
    "# Data Visualization - Seaborn"
   ]
  },
  {
   "cell_type": "code",
   "execution_count": 61,
   "id": "88341a43-c6bd-4d59-9004-74d776cd7217",
   "metadata": {},
   "outputs": [
    {
     "data": {
      "image/png": "[encoded data removed]",
      "text/plain": [
       "<Figure size 800x500 with 1 Axes>"
      ]
     },
     "metadata": {},
     "output_type": "display_data"
    }
   ],
   "source": [
    "# 1. Egzersiz Gruplarına Göre Nabız Dağılımı\n",
    "plt.figure(figsize=(8,5))\n",
    "sns.boxplot(data = exercise, x = 'kind', y = 'pulse', palette  = 'Set2')\n",
    "plt.title(\"Egzersiz Gruplarına Göre Nabız Dağılımı\")\n",
    "plt.show()"
   ]
  },
  {
   "cell_type": "code",
   "execution_count": 56,
   "id": "6b3b8aa0-c60c-43f5-b13e-88b378f72f46",
   "metadata": {},
   "outputs": [
    {
     "data": {
      "image/png": "[encoded data removed]",
      "text/plain": [
       "<Figure size 800x500 with 1 Axes>"
      ]
     },
     "metadata": {},
     "output_type": "display_data"
    }
   ],
   "source": [
    "# 2. Egzersiz Türüne Göre Zaman İçinde Nabız Değişimi\n",
    "plt.figure(figsize=(8,5))\n",
    "sns.pointplot(data=exercise, x=\"time\", y=\"pulse\", hue=\"kind\", dodge=True)\n",
    "plt.title(\"Egzersiz Türüne Göre Zaman İçinde Nabız Değişimi\")\n",
    "plt.show()"
   ]
  },
  {
   "cell_type": "code",
   "execution_count": 78,
   "id": "3d0887f5-995a-4250-ae26-8d4e5c2feb07",
   "metadata": {},
   "outputs": [
    {
     "data": {
      "image/png": "[encoded data removed]",
      "text/plain": [
       "<Figure size 800x500 with 1 Axes>"
      ]
     },
     "metadata": {},
     "output_type": "display_data"
    }
   ],
   "source": [
    "# 3. Diyet ve Egzersiz Türü İlişkisi\n",
    "plt.figure(figsize=(8,5))\n",
    "sns.countplot(data=exercise, x=\"kind\", hue=\"diet\")\n",
    "plt.title(\"Egzersiz Türü ve Diyet İlişkisi\")\n",
    "plt.show()"
   ]
  },
  {
   "cell_type": "code",
   "execution_count": 67,
   "id": "3c674d20-a535-42dd-9c05-6b0784fad5f2",
   "metadata": {},
   "outputs": [
    {
     "data": {
      "image/png": "[encoded data removed]",
      "text/plain": [
       "<Figure size 800x500 with 1 Axes>"
      ]
     },
     "metadata": {},
     "output_type": "display_data"
    }
   ],
   "source": [
    "# 4. Nabzı 100’den Büyük Olanların Zaman Dağılımı\n",
    "plt.figure(figsize=(8,5))\n",
    "sns.histplot(data = exercise[exercise['pulse'] > 100 ], x = 'time')\n",
    "plt.title(\"Nabzı 100’den Büyük Olanların Zaman Dağılımı\")\n",
    "plt.show()"
   ]
  },
  {
   "cell_type": "code",
   "execution_count": 53,
   "id": "4cb2cf8b-506a-4ab9-82fe-6b746500951c",
   "metadata": {},
   "outputs": [
    {
     "data": {
      "image/png": "[encoded data removed]",
      "text/plain": [
       "<Figure size 800x500 with 1 Axes>"
      ]
     },
     "metadata": {},
     "output_type": "display_data"
    }
   ],
   "source": [
    "# 5. Diyet Grupları ve Ortalama Nabız\n",
    "plt.figure(figsize=(8,5))\n",
    "sns.barplot(data = exercise, x = 'diet', y = 'pulse', palette = 'magma') # estimator default mean() olduğu için değiştirmedik\n",
    "plt.title(\"Diyet Gruplarına Göre Ortalama Nabız\")\n",
    "plt.show()"
   ]
  },
  {
   "cell_type": "code",
   "execution_count": 68,
   "id": "e384133e-1f4a-40ab-b857-81c75e6850e7",
   "metadata": {},
   "outputs": [
    {
     "data": {
      "image/png": "[encoded data removed]",
      "text/plain": [
       "<Figure size 600x400 with 1 Axes>"
      ]
     },
     "metadata": {},
     "output_type": "display_data"
    }
   ],
   "source": [
    "# 6. Zamanlara Göre Nabız Dağılımı\n",
    "plt.figure(figsize=(6,4))\n",
    "sns.histplot(data=exercise, x=\"pulse\", hue=\"time\", kde=False, multiple=\"dodge\")\n",
    "plt.title(\"Zamanlara Göre Nabız Dağılımı\")\n",
    "plt.show()"
   ]
  },
  {
   "cell_type": "code",
   "execution_count": 75,
   "id": "adb205fb-3dcb-4f73-bab1-4495915cde27",
   "metadata": {},
   "outputs": [
    {
     "data": {
      "image/png": "[encoded data removed]",
      "text/plain": [
       "<Figure size 600x400 with 1 Axes>"
      ]
     },
     "metadata": {},
     "output_type": "display_data"
    }
   ],
   "source": [
    "# 7. Diyet Gruplarına Göre Nabız Yoğunluk Eğrisi\n",
    "plt.figure(figsize=(6,4))\n",
    "sns.kdeplot(data=exercise, x=\"pulse\", hue=\"diet\")\n",
    "plt.title(\"Diyet Gruplarına Göre Nabız Yoğunluğu\")\n",
    "plt.show()"
   ]
  },
  {
   "cell_type": "code",
   "execution_count": 72,
   "id": "a53b6c9f-4395-4b52-abf2-13580adf5e7f",
   "metadata": {},
   "outputs": [
    {
     "data": {
      "image/png": "[encoded data removed]",
      "text/plain": [
       "<Figure size 600x400 with 1 Axes>"
      ]
     },
     "metadata": {},
     "output_type": "display_data"
    }
   ],
   "source": [
    "# 8. Zaman – Nabız İlişkisi (stripplot)\n",
    "plt.figure(figsize=(6,4))\n",
    "sns.stripplot(data=exercise, x=\"time\", y=\"pulse\", jitter=True)\n",
    "plt.title(\"Zamanlara Göre Nabız Dağılımı\")\n",
    "plt.show()"
   ]
  },
  {
   "cell_type": "code",
   "execution_count": 71,
   "id": "c39d11aa-b1ba-4712-9d0f-87eca656299b",
   "metadata": {},
   "outputs": [
    {
     "data": {
      "image/png": "[encoded data removed]",
      "text/plain": [
       "<Figure size 600x400 with 1 Axes>"
      ]
     },
     "metadata": {},
     "output_type": "display_data"
    }
   ],
   "source": [
    "plt.figure(figsize=(6,4))\n",
    "sns.scatterplot(data = exercise, x = 'time', y = 'pulse', hue = 'diet')\n",
    "plt.title(\"Zamanlara Göre Nabız Dağılımı\")\n",
    "plt.show() "
   ]
  },
  {
   "cell_type": "code",
   "execution_count": null,
   "id": "217c7081-3fe5-492f-b25f-c321e3fd6300",
   "metadata": {},
   "outputs": [],
   "source": []
  }
 ],
 "metadata": {
  "kernelspec": {
   "display_name": "Python 3 (ipykernel)",
   "language": "python",
   "name": "python3"
  },
  "language_info": {
   "codemirror_mode": {
    "name": "ipython",
    "version": 3
   },
   "file_extension": ".py",
   "mimetype": "text/x-python",
   "name": "python",
   "nbconvert_exporter": "python",
   "pygments_lexer": "ipython3",
   "version": "3.13.5"
  }
 },
 "nbformat": 4,
 "nbformat_minor": 5
}
